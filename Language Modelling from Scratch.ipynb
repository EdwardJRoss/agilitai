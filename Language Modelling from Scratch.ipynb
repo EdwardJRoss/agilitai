{
 "cells": [
  {
   "cell_type": "markdown",
   "metadata": {},
   "source": [
    "All advanced applications of lanugage need a way to *consume* text or *produce* text.\n",
    "\n",
    "Language modelling is a good difficulty task that helps train embeddings for both.\n",
    "\n",
    "Let's work towards the model in [Regularizing and Optimizing LSTM Language Models](https://arxiv.org/abs/1708.02182).\n",
    "\n",
    "Transformers perform much better but are apparently harder to train; so let's start easy."
   ]
  },
  {
   "cell_type": "markdown",
   "metadata": {},
   "source": [
    "## Download the data"
   ]
  },
  {
   "cell_type": "code",
   "execution_count": 1,
   "metadata": {},
   "outputs": [],
   "source": [
    "%load_ext autoreload\n",
    "%autoreload 2\n",
    "\n",
    "%matplotlib inline"
   ]
  },
  {
   "cell_type": "code",
   "execution_count": 2,
   "metadata": {},
   "outputs": [],
   "source": [
    "from foundation import *\n",
    "from pathlib import Path"
   ]
  },
  {
   "cell_type": "markdown",
   "metadata": {},
   "source": [
    "Download [Wikitext](https://blog.einstein.ai/the-wikitext-long-term-dependency-language-modeling-dataset/) as described in [Pointer Sentinal Mixture Models](https://arxiv.org/abs/1609.07843)"
   ]
  },
  {
   "cell_type": "code",
   "execution_count": 3,
   "metadata": {},
   "outputs": [],
   "source": [
    "URL_WIKITEXT = {\n",
    "    '2': 'https://s3.amazonaws.com/research.metamind.io/wikitext/wikitext-2-raw-v1.zip',\n",
    "    '2-word': 'https://s3.amazonaws.com/research.metamind.io/wikitext/wikitext-2-v1.zip',\n",
    "    '103-word': 'https://s3.amazonaws.com/research.metamind.io/wikitext/wikitext-103-v1.zip',\n",
    "    '103': 'https://s3.amazonaws.com/research.metamind.io/wikitext/wikitext-103-raw-v1.zip',\n",
    "}"
   ]
  },
  {
   "cell_type": "code",
   "execution_count": 4,
   "metadata": {},
   "outputs": [],
   "source": [
    "download(URL_WIKITEXT['2'], 'data/wikitext2-raw.zip')"
   ]
  },
  {
   "cell_type": "code",
   "execution_count": 5,
   "metadata": {},
   "outputs": [],
   "source": [
    "!unzip -qu -d data data/wikitext2-raw.zip"
   ]
  },
  {
   "cell_type": "code",
   "execution_count": 6,
   "metadata": {},
   "outputs": [],
   "source": [
    "download(URL_WIKITEXT['2-word'], 'data/wikitext2.zip')"
   ]
  },
  {
   "cell_type": "code",
   "execution_count": 7,
   "metadata": {},
   "outputs": [],
   "source": [
    "!unzip -qu -d data data/wikitext2.zip"
   ]
  },
  {
   "cell_type": "markdown",
   "metadata": {},
   "source": [
    "Is fastai's version the same?"
   ]
  },
  {
   "cell_type": "code",
   "execution_count": 8,
   "metadata": {
    "scrolled": true
   },
   "outputs": [],
   "source": [
    "download('https://s3.amazonaws.com/fast-ai-nlp/wikitext-2.tgz', 'data/fastai-wikitext/wikitext.tgz')"
   ]
  },
  {
   "cell_type": "code",
   "execution_count": 9,
   "metadata": {},
   "outputs": [],
   "source": [
    "!tar -xf data/fastai-wikitext/wikitext.tgz -C data/fastai-wikitext "
   ]
  },
  {
   "cell_type": "markdown",
   "metadata": {},
   "source": [
    "## Explore the Data"
   ]
  },
  {
   "cell_type": "markdown",
   "metadata": {},
   "source": [
    "All wikitext documents have been pretokenized. It's clear *most* wiki markdown has been stripped (excluding the `=` signts in headers).\n",
    "The most notable difference is the word level models have `<unk>` out of vocabulary tokens already."
   ]
  },
  {
   "cell_type": "markdown",
   "metadata": {},
   "source": [
    "The tokenized data, but rare tokens not removed. I think Moses was used for tokenisation, and some custom processing to remove Wiki markup."
   ]
  },
  {
   "cell_type": "code",
   "execution_count": 23,
   "metadata": {
    "scrolled": true
   },
   "outputs": [
    {
     "name": "stdout",
     "output_type": "stream",
     "text": [
      " \r\n",
      " = Valkyria Chronicles III = \r\n",
      " \r\n",
      " Senjō no Valkyria 3 : Unrecorded Chronicles ( Japanese : 戦場のヴァルキュリア3 , lit . Valkyria of the Battlefield 3 ) , commonly referred to as Valkyria Chronicles III outside Japan , is a tactical role @-@ playing video game developed by Sega and Media.Vision for the PlayStation Portable . Released in January 2011 in Japan , it is the third game in the Valkyria series . Employing the same fusion of tactical and real @-@ time gameplay as its predecessors , the story runs parallel to the first game and follows the \" Nameless \" , a penal military unit serving the nation of Gallia during the Second Europan War who perform secret black operations and are pitted against the Imperial unit \" Calamaty Raven \" . \r\n",
      " The game began development in 2010 , carrying over a large portion of the work done on Valkyria Chronicles II . While it retained the standard features of the series , it also underwent multiple adjustments , such as making the game more forgiving for series newcomers . Character designer Raita Honjou and composer Hitoshi Sakimoto both returned from previous entries , along with Valkyria Chronicles II director Takeshi Ozawa . A large team of writers handled the script . The game 's opening theme was sung by May 'n . \r\n",
      " It met with positive sales in Japan , and was praised by both Japanese and western critics . After release , it received downloadable content , along with an expanded edition in November of that year . It was also adapted into manga and an original video animation series . Due to low sales of Valkyria Chronicles II , Valkyria Chronicles III was not localized , but a fan translation compatible with the game 's expanded edition was released in 2014 . Media.Vision would return to the franchise with the development of Valkyria : Azure Revolution for the PlayStation 4 . \r\n",
      " \r\n",
      " = = Gameplay = = \r\n",
      " \r\n",
      " As with previous Valkyira Chronicles games , Valkyria Chronicles III is a tactical role @-@ playing game where players take control of a military unit and take part in missions against enemy forces . Stories are told through comic book @-@ like panels with animated character portraits , with characters speaking partially through voiced speech bubbles and partially through unvoiced text . The player progresses through a series of linear missions , gradually unlocked as maps that can be freely scanned through and replayed as they are unlocked . The route to each story location on the map varies depending on an individual player 's approach : when one option is selected , the other is sealed off to the player . Outside missions , the player characters rest in a camp , where units can be customized and character growth occurs . Alongside the main story missions are character @-@ specific sub missions relating to different squad members . After the game 's completion , additional episodes are unlocked , some of them having a higher difficulty than those found in the rest of the game . There are also love simulation elements related to the game 's two main heroines , although they take a very minor role . \r\n"
     ]
    }
   ],
   "source": [
    "!head data/wikitext-2-raw/wiki.train.raw"
   ]
  },
  {
   "cell_type": "markdown",
   "metadata": {},
   "source": [
    "Preprocessed tokens, with `<unk>` for tokens that occur less than 3 times"
   ]
  },
  {
   "cell_type": "code",
   "execution_count": 11,
   "metadata": {
    "scrolled": false
   },
   "outputs": [
    {
     "name": "stdout",
     "output_type": "stream",
     "text": [
      " \r\n",
      " = Valkyria Chronicles III = \r\n",
      " \r\n",
      " Senjō no Valkyria 3 : <unk> Chronicles ( Japanese : 戦場のヴァルキュリア3 , lit . Valkyria of the Battlefield 3 ) , commonly referred to as Valkyria Chronicles III outside Japan , is a tactical role @-@ playing video game developed by Sega and Media.Vision for the PlayStation Portable . Released in January 2011 in Japan , it is the third game in the Valkyria series . <unk> the same fusion of tactical and real @-@ time gameplay as its predecessors , the story runs parallel to the first game and follows the \" Nameless \" , a penal military unit serving the nation of Gallia during the Second Europan War who perform secret black operations and are pitted against the Imperial unit \" <unk> Raven \" . \r\n",
      " The game began development in 2010 , carrying over a large portion of the work done on Valkyria Chronicles II . While it retained the standard features of the series , it also underwent multiple adjustments , such as making the game more <unk> for series newcomers . Character designer <unk> Honjou and composer Hitoshi Sakimoto both returned from previous entries , along with Valkyria Chronicles II director Takeshi Ozawa . A large team of writers handled the script . The game 's opening theme was sung by May 'n . \r\n",
      " It met with positive sales in Japan , and was praised by both Japanese and western critics . After release , it received downloadable content , along with an expanded edition in November of that year . It was also adapted into manga and an original video animation series . Due to low sales of Valkyria Chronicles II , Valkyria Chronicles III was not localized , but a fan translation compatible with the game 's expanded edition was released in 2014 . Media.Vision would return to the franchise with the development of Valkyria : Azure Revolution for the PlayStation 4 . \r\n",
      " \r\n",
      " = = Gameplay = = \r\n",
      " \r\n",
      " As with previous <unk> Chronicles games , Valkyria Chronicles III is a tactical role @-@ playing game where players take control of a military unit and take part in missions against enemy forces . Stories are told through comic book @-@ like panels with animated character portraits , with characters speaking partially through voiced speech bubbles and partially through <unk> text . The player progresses through a series of linear missions , gradually unlocked as maps that can be freely <unk> through and replayed as they are unlocked . The route to each story location on the map varies depending on an individual player 's approach : when one option is selected , the other is sealed off to the player . Outside missions , the player characters rest in a camp , where units can be customized and character growth occurs . Alongside the main story missions are character @-@ specific sub missions relating to different squad members . After the game 's completion , additional episodes are unlocked , some of them having a higher difficulty than those found in the rest of the game . There are also love simulation elements related to the game 's two main <unk> , although they take a very minor role . \r\n"
     ]
    }
   ],
   "source": [
    "!head data/wikitext-2/wiki.train.tokens"
   ]
  },
  {
   "cell_type": "markdown",
   "metadata": {},
   "source": [
    "Fastai's version looks different"
   ]
  },
  {
   "cell_type": "code",
   "execution_count": 12,
   "metadata": {},
   "outputs": [
    {
     "name": "stdout",
     "output_type": "stream",
     "text": [
      "\" \r\n",
      " = 2013 – 14 York City F.C. season = \r\n",
      " \r\n",
      " The 2013 – 14 season was the <unk> season of competitive association football and 77th season in the Football League played by York City Football Club , a professional football club based in York , North Yorkshire , England . Their 17th @-@ place finish in 2012 – 13 meant it was their second consecutive season in League Two . The season ran from 1 July 2013 to 30 June 2014 . \r\n",
      " Nigel Worthington , starting his first full season as York manager , made eight permanent summer signings . By the turn of the year York were only above the relegation zone on goal difference , before a 17 @-@ match unbeaten run saw the team finish in seventh @-@ place in the 24 @-@ team 2013 – 14 Football League Two . This meant York qualified for the play @-@ offs , and they were eliminated in the semi @-@ final by Fleetwood Town . York were knocked out of the 2013 – 14 FA Cup , Football League Cup and Football League Trophy in their opening round matches . \r\n",
      " 35 players made at least one appearance in nationally organised first @-@ team competition , and there were 12 different <unk> . Defender Ben Davies missed only five of the fifty @-@ two competitive matches played over the season . Wes Fletcher finished as leading scorer with 13 goals , of which 10 came in league competition and three came in the FA Cup . The winner of the <unk> of the Year award , voted for by the club 's supporters , was <unk> Oyebanjo . \r\n",
      " \r\n",
      " = = Background and pre @-@ season = = \r\n",
      " \r\n",
      " The 2012 – 13 season was York City 's first season back in the Football League , having won the Conference Premier play @-@ offs in 2011 – 12 after <unk> years in the Football Conference . Manager Gary Mills was sacked in March 2013 following an 11 @-@ match run without a victory , and was replaced by former Northern Ireland manager Nigel Worthington . Despite being in the relegation zone with three matches remaining , Worthington led the team to safety from relegation after a 1 – 0 win away to Dagenham & Redbridge on the final day of the season . York finished the season in 17th @-@ place in the 2012 – 13 League Two table . \r\n"
     ]
    }
   ],
   "source": [
    "!head data/fastai-wikitext/wikitext-2/train.csv"
   ]
  },
  {
   "cell_type": "markdown",
   "metadata": {},
   "source": [
    "There are some specially marked up characters:\n",
    "\n",
    "* @-@ is an in-word hyphen\n",
    "* @.@ is a period separator in a number\n",
    "* @,@ is a comma separator in a number"
   ]
  },
  {
   "cell_type": "code",
   "execution_count": 13,
   "metadata": {
    "scrolled": true
   },
   "outputs": [
    {
     "name": "stdout",
     "output_type": "stream",
     "text": [
      "  16906 @-@\r\n",
      "   3194 @.@\r\n",
      "   2699 @,@\r\n"
     ]
    }
   ],
   "source": [
    "!grep -o '@[^ ]*@' data/wikitext-2/wiki.train.tokens | sort | uniq -c | sort -nr | head -n 10"
   ]
  },
  {
   "cell_type": "markdown",
   "metadata": {},
   "source": [
    "The fastai version is different - it is slightly smaller!"
   ]
  },
  {
   "cell_type": "code",
   "execution_count": 14,
   "metadata": {},
   "outputs": [
    {
     "name": "stdout",
     "output_type": "stream",
     "text": [
      "    4358 data/wikitext-2-raw/wiki.test.raw\r\n",
      "   36718 data/wikitext-2-raw/wiki.train.raw\r\n",
      "    3760 data/wikitext-2-raw/wiki.valid.raw\r\n",
      "   44836 total\r\n"
     ]
    }
   ],
   "source": [
    "!wc -l data/wikitext-2-raw/*"
   ]
  },
  {
   "cell_type": "code",
   "execution_count": 15,
   "metadata": {},
   "outputs": [
    {
     "name": "stdout",
     "output_type": "stream",
     "text": [
      "    4358 data/wikitext-2/wiki.test.tokens\r\n",
      "   36718 data/wikitext-2/wiki.train.tokens\r\n",
      "    3760 data/wikitext-2/wiki.valid.tokens\r\n",
      "   44836 total\r\n"
     ]
    }
   ],
   "source": [
    "!wc -l data/wikitext-2/*"
   ]
  },
  {
   "cell_type": "code",
   "execution_count": 16,
   "metadata": {},
   "outputs": [
    {
     "name": "stdout",
     "output_type": "stream",
     "text": [
      "    3807 data/fastai-wikitext/wikitext-2/test.csv\r\n",
      "   37333 data/fastai-wikitext/wikitext-2/train.csv\r\n",
      "   41140 total\r\n"
     ]
    }
   ],
   "source": [
    "!wc -l data/fastai-wikitext/wikitext-2/*"
   ]
  },
  {
   "cell_type": "markdown",
   "metadata": {},
   "source": [
    "# Load the Data"
   ]
  },
  {
   "cell_type": "code",
   "execution_count": 4,
   "metadata": {},
   "outputs": [],
   "source": [
    "path = Path('data/wikitext-2/')\n",
    "data = {}\n",
    "for split in ('train', 'valid', 'test'):\n",
    "    with open(path / f'wiki.{split}.tokens') as f:\n",
    "        data[split] = f.read()"
   ]
  },
  {
   "cell_type": "markdown",
   "metadata": {},
   "source": [
    "We have different sections. There is no continuity *between* sections but *within* sections, so it makes sense to shuffle at a section level."
   ]
  },
  {
   "cell_type": "markdown",
   "metadata": {},
   "source": [
    "All the sections"
   ]
  },
  {
   "cell_type": "code",
   "execution_count": 5,
   "metadata": {
    "scrolled": false
   },
   "outputs": [
    {
     "name": "stdout",
     "output_type": "stream",
     "text": [
      "600\n"
     ]
    },
    {
     "data": {
      "text/plain": [
       "['Valkyria Chronicles III',\n",
       " 'Tower Building of the Little Rock Arsenal',\n",
       " '<unk> Mary Barker',\n",
       " \"Gambia women 's national football team\",\n",
       " 'Plain maskray',\n",
       " '2011 – 12 Columbus Blue Jackets season',\n",
       " 'Gregorian Tower',\n",
       " \"There 's Got to Be a Way\",\n",
       " 'Nebraska Highway 88',\n",
       " 'USS Atlanta ( 1861 )',\n",
       " 'Jacqueline Fernandez',\n",
       " 'John Cullen',\n",
       " 'SMS Erzherzog Ferdinand Max',\n",
       " 'Ancient Egyptian deities',\n",
       " 'South of Heaven',\n",
       " 'General aviation in the United Kingdom',\n",
       " 'SMS Zrínyi',\n",
       " 'Geopyxis carbonaria',\n",
       " 'Gold dollar',\n",
       " 'Johnson – Corey – Chaykovsky reaction']"
      ]
     },
     "execution_count": 5,
     "metadata": {},
     "output_type": "execute_result"
    }
   ],
   "source": [
    "section_names = re.findall(r'\\n \\n = ([^=]*) = \\n \\n', '\\n \\n' + data['train'])\n",
    "print(len(section_names))\n",
    "section_names[:20]"
   ]
  },
  {
   "cell_type": "markdown",
   "metadata": {},
   "source": [
    "Split the text into sections"
   ]
  },
  {
   "cell_type": "code",
   "execution_count": 7,
   "metadata": {},
   "outputs": [],
   "source": [
    "def split_wiki_sections(text):\n",
    "    section_start = re.compile(r'\\n \\n = [^=]* = \\n \\n')\n",
    "    ans = []\n",
    "    idx = 0\n",
    "    while True:\n",
    "        m = section_start.search(text[idx:])\n",
    "        if m:\n",
    "            ans.append(text[idx: idx+m.start()])\n",
    "            idx += m.start() + 1\n",
    "        else:\n",
    "            ans.append(text[idx:-1])\n",
    "            return(ans)"
   ]
  },
  {
   "cell_type": "code",
   "execution_count": 8,
   "metadata": {},
   "outputs": [
    {
     "data": {
      "text/plain": [
       "(600, 60, 60)"
      ]
     },
     "execution_count": 8,
     "metadata": {},
     "output_type": "execute_result"
    }
   ],
   "source": [
    "train = split_wiki_sections(data['train'])\n",
    "val = split_wiki_sections(data['valid'])\n",
    "test = split_wiki_sections(data['test'])\n",
    "len(train), len(val), len(test)"
   ]
  },
  {
   "cell_type": "code",
   "execution_count": 9,
   "metadata": {},
   "outputs": [],
   "source": [
    "import matplotlib.pyplot as plt"
   ]
  },
  {
   "cell_type": "code",
   "execution_count": 10,
   "metadata": {},
   "outputs": [
    {
     "data": {
      "image/png": "[encoded data removed]",
      "text/plain": [
       "<Figure size 432x288 with 1 Axes>"
      ]
     },
     "metadata": {
      "needs_background": "light"
     },
     "output_type": "display_data"
    }
   ],
   "source": [
    "l = [len(t) for t in train]\n",
    "plt.hist(l, bins=30)\n",
    "None"
   ]
  },
  {
   "cell_type": "markdown",
   "metadata": {},
   "source": [
    "Makes sense: Bob Dylan is a long topic"
   ]
  },
  {
   "cell_type": "code",
   "execution_count": 11,
   "metadata": {},
   "outputs": [
    {
     "name": "stdout",
     "output_type": "stream",
     "text": [
      " \n",
      " = Bob Dylan = \n",
      " \n",
      " Bob Dylan ( / <unk> / ; born Robert Allen Zimmerman , May 24 , 1941 ) is an American singer @-@ songwriter , artist and writer . He has been influential in popular music and culture for more than five decades . Much of his most celebrated work dates from the 1960s when his songs chronicled social unrest , although Dylan repudiated suggestions from journalists that he was a spokesman for his generation . Nevertheless , early songs such as \" Blowin ' in the Wind \" and \" The Times They Are a @-@ <unk> ' \" became anthems for the American civil rights and anti @-@ war movements . After he left his initial base in the American folk music revival , his six @-@ minute single \" Like a Rolling Stone \" altered the range of popular music in 1965 . His mid @-@ 1960s recordings , backed by rock musicians , reached the top end of the United States music charts while also attracting <unk> and criticism from others in the folk movement . \n",
      " Dylan 's lyrics have incorporated various political , social , philosophical , and literary influences . They defied existing pop music conventions and appealed to the burgeoning counterculture . Initially inspired by the performances of Little Richard and the songwriting of Woody Guthrie , Robert Johnson , and Hank Williams , Dylan has amplified and <unk> musical genres . His recording career , spanning more than 50 years , has explored the traditions in American song — from folk , blues , and country to gospel , rock and roll , and rockabilly to English , Scottish , and Irish folk music , embracing even jazz and the Great American Songbook . Dylan performs with guitar , keyboards , and harmonica . Backed by a changing lineup of musicians , he has toured steadily since the late 1980s on what has been dubbed the Never Ending Tour . His accomplishments as a recording artist and performer have been central to his career , but songwriting is considered his greatest contribution . \n",
      " Since 1994 , Dylan has published six books of drawings and paintings , and his work has been exhibited in major art galleries . As a musician , Dylan has sold more than 100 million records , making him one of the best @-@ selling artists of all time . He has also received numerous awards including eleven Grammy Awards , a Golden Globe Award , and an Academy Award . Dylan has been inducted into the Rock and Roll Hall of Fame , Minnesota Music Hall of Fame , Nashville Songwriters Hall of Fame , and Songwriters Hall of Fame . The Pulitzer Prize jury in 2008 awarded him a special citation for \" his profound impact on popular music and American culture , marked by lyrical compositions of extraordinary poetic power . \" In May 2012 , Dylan received the Presidential Medal of Freedom from President Barack Obama . \n",
      " \n",
      " = = Life and career = = \n",
      " \n",
      " \n",
      " = = = Origins and musical beginnings = = = \n",
      " \n",
      " Bob Dylan was born Robert Allen Zimmerman ( Hebrew name <unk> <unk> <unk> <unk> [ Shabtai <unk> ben <unk> ] ) in St Mary 's Hospital on May 24 , 1941 , in Duluth , Minnesota , and raised in Hibbing , Minnesota , on the <unk> Range west of Lake Superior . He has a younger brother , David . Dylan 's paternal grandparents , <unk> and Anna Zimmerman , emigrated from Odessa , in the Russian Empire ( now Ukraine ) , to the United States following the anti @-@ Semitic <unk> of 1905 . His maternal grandparents , Ben and Florence Stone , were Lithuanian Jews who arrived in the United States in 1902 . In his autobiography , Chronicles : Volume One , Dylan wrote that his paternal grandmother 's maiden name was <unk> and her family originated from <unk> district of <unk> Province in northeastern Turkey . \n",
      " Dylan 's parents , <unk> Zimmerman and <unk> \" Beatty \" Stone , were part of a small but close @-@ knit Jewish community . They lived in Duluth until Robert was six , when his father had <unk> and the family returned to his mother 's hometown , Hibbing , where they lived for the rest of Robert 's childhood . In his early years he listened to the radio — first to blues and country stations from Shreveport , Louisiana and later , when he was a teenager , to rock and roll . He formed several bands while attending Hibbing High School . In the Golden <unk> , he performed covers of songs by Little Richard and Elvis Presley . Their performance of Danny & the Juniors ' \" Rock and Roll Is Here to Stay \" at their high school talent show was so loud that the principal cut the microphone . In 1959 , his high school <unk> carried the caption \" Robert Zimmerman : to join ' Little Richard ' . \" The same year , as <unk> <unk> [ sic ] , he performed two dates with Bobby <unk> , playing piano and clapping . \n",
      " Zimmerman moved to Minneapolis in September 1959 and enrolled at the University of Minnesota . His focus on rock and roll gave way to American folk music . In 1985 , he said : \n",
      " The thing about rock 'n'roll is that for me anyway it wasn 't enough ... There were great catch @-@ phrases and driving pulse rhythms ... but the songs weren 't serious or didn 't reflect life in a realistic way . I knew that when I got into folk music , it was more of a serious type of thing . The songs are filled with more despair , more sadness , more triumph , more faith in the supernatural , much deeper feelings . \n",
      " He began to perform at the Ten O <unk> Scholar , a coffeehouse a few blocks from campus , and became involved in the <unk> folk music circuit . \n",
      " During his <unk> days , Zimmerman began introducing himself as \" Bob Dylan \" . In his memoir , Dylan acknowledged that he had been influenced by the poetry of Dylan Thomas . Explaining his change of name in a 2004 interview , Dylan remarked , \" You 're born , you know , the wrong names , wrong parents . I mean , that happens . You call yourself what you want to call yourself . This is the land of the free . \" \n",
      " \n",
      " = = = 1960s = = = \n",
      " \n",
      " \n",
      " = = = = <unk> to New York and record deal = = = = \n",
      " \n",
      " In May 1960 , Dylan dropped out of college at the end of his first year . In January 1961 , he traveled to New York City , to perform there and visit his musical idol Woody Guthrie , who was seriously ill with Huntington 's disease in <unk> Park <unk> Hospital . Guthrie had been a revelation to Dylan and influenced his early performances . Describing Guthrie 's impact , he wrote : \" The songs themselves had the infinite sweep of humanity in them ... [ He ] was the true voice of the American spirit . I said to myself I was going to be Guthrie 's greatest disciple . \" As well as visiting Guthrie in hospital , Dylan befriended Guthrie 's <unk> Ramblin ' Jack Elliott . Much of Guthrie 's repertoire was channeled through Elliott , and Dylan paid tribute to Elliott in Chronicles : Volume One . \n",
      " From February 1961 , Dylan played at clubs around Greenwich Village . He befriended and picked up material from folk singers there , including Dave Van Ronk , Fred Neil , <unk> , the New Lost City <unk> , and Irish musicians the Clancy Brothers and Tommy <unk> . In September , Dylan gained public recognition when Robert Shelton wrote a review in The New York Times of a show at <unk> 's Folk City . The same month Dylan played harmonica on folk singer Carolyn <unk> 's third album , which brought his talents to the attention of the album 's producer , John Hammond . Hammond signed Dylan to Columbia Records in October . The performances on his first Columbia album — Bob Dylan — in March 1962 , consisted of familiar folk , blues and gospel with two original compositions . The album sold only 5 @,@ 000 in its first year , just enough to break even . Within Columbia Records , some referred to the singer as \" Hammond 's <unk> \" and suggested dropping his contract , but Hammond defended Dylan and was supported by Johnny Cash . In March 1962 , Dylan contributed harmonica and back @-@ up vocals to the album Three Kings and the Queen , accompanying Victoria Spivey and Big Joe Williams on a recording for Spivey Records . While working for Columbia , Dylan recorded under the pseudonym Blind Boy <unk> , for <unk> , a folk magazine and record label . Dylan used the pseudonym Bob <unk> to record as a piano player on The Blues Project , a 1964 anthology album by <unk> Records . As <unk> <unk> , Dylan played harmonica on Ramblin ' Jack Elliott 's 1964 album , Jack Elliott . \n",
      " Dylan made two important career moves in August 1962 : he legally changed his name to Robert Dylan , and he signed a management contract with Albert Grossman . ( In June 1961 , Dylan had signed an agreement with Roy Silver . In 1962 , Grossman paid Silver $ 10 @,@ 000 to become sole manager . ) Grossman remained Dylan 's manager until 1970 , and was notable for his sometimes <unk> personality and for protective loyalty . Dylan said , \" He was kind of like a Colonel Tom Parker figure ... you could smell him coming . \" Tensions between Grossman and John Hammond led to Hammond 's being replaced as producer of Dylan 's second album by the young African @-@ American jazz producer , Tom Wilson . \n",
      " Dylan made his first trip to the United Kingdom from December 1962 to January 1963 . He had been invited by TV director Philip Saville to appear in a drama , <unk> on Castle Street , which Saville was directing for BBC Television . At the end of the play , Dylan performed \" Blowin ' in the Wind \" , one of its first public performances . The film recording of <unk> on Castle Street was destroyed by the BBC in 1968 . While in London , Dylan performed at London folk clubs , including the <unk> , Les <unk> , and <unk> . He also learned material from UK performers , including Martin <unk> . \n",
      " By the time of Dylan 's second album , The Freewheelin ' Bob Dylan , in May 1963 , he had begun to make his name as a singer and a songwriter . Many songs on this album were labeled protest songs , inspired partly by Guthrie and influenced by Pete Seeger 's passion for topical songs . \" Oxford Town \" , for example , was an account of James Meredith 's ordeal as the first black student to risk enrollment at the University of Mississippi . \n",
      " The first song on the Freewheelin ' album , \" Blowin ' in the Wind \" , partly derived its melody from the traditional slave song , \" No More Auction Block \" , while its lyrics questioned the social and political status <unk> . The song was widely recorded by other artists and became a hit for Peter , Paul and Mary . Another Freewheelin ' song , \" A Hard Rain 's a @-@ Gonna Fall \" was based on the folk ballad \" Lord Randall \" . With veiled references to an impending <unk> , the song gained more resonance when the Cuban Missile Crisis developed a few weeks after Dylan began performing it . Like \" Blowin ' in the Wind \" , \" A Hard Rain 's a @-@ Gonna Fall \" marked a new direction in songwriting , blending a stream @-@ of @-@ consciousness , <unk> lyrical attack with traditional folk form . \n",
      " Dylan 's topical songs enhanced his early reputation , and he came to be seen as more than just a songwriter . Janet Maslin wrote of Freewheelin ' : \" These were the songs that established [ Dylan ] as the voice of his generation — someone who implicitly understood how concerned young Americans felt about nuclear <unk> and the growing movement for civil rights : his mixture of moral authority and <unk> was perhaps the most timely of his attributes . \" Freewheelin ' also included love songs and surreal talking blues . <unk> was an important part of Dylan 's persona , and the range of material on the album impressed listeners , including The Beatles . George Harrison said of the album , \" We just played it , just wore it out . The content of the song lyrics and just the attitude — it was incredibly original and wonderful . \" \n",
      " The rough edge of Dylan 's singing was unsettling to some but an attraction to others . Joyce Carol Oates wrote : \" When we first heard this raw , very young , and seemingly untrained voice , <unk> nasal , as if <unk> could sing , the effect was dramatic and <unk> . \" Many early songs reached the public through more palatable versions by other performers , such as Joan Baez , who became Dylan 's advocate as well as his lover . Baez was influential in bringing Dylan to prominence by recording several of his early songs and inviting him on stage during her concerts . \n",
      " Others who had hits with Dylan 's songs in the early 1960s included the Byrds , Sonny & <unk> , the <unk> , Peter , Paul and Mary , the Association , Manfred Mann and the Turtles . Most attempted a pop feel and rhythm , while Dylan and Baez performed them mostly as sparse folk songs . The covers became so ubiquitous that CBS promoted him with the slogan \" Nobody Sings Dylan Like Dylan . \" \n",
      " \" Mixed @-@ Up Confusion \" , recorded during the Freewheelin ' sessions with a backing band , was released as a single and then quickly withdrawn . In contrast to the mostly solo acoustic performances on the album , the single showed a willingness to experiment with a rockabilly sound . Cameron Crowe described it as \" a fascinating look at a folk artist with his mind wandering towards Elvis Presley and Sun Records . \" \n",
      " \n",
      " = = = = <unk> and Another Side = = = = \n",
      " \n",
      " In May 1963 , Dylan 's political profile rose when he walked out of The Ed Sullivan Show . During rehearsals , Dylan had been told by CBS television 's head of program practices that \" <unk> ' John Birch <unk> Blues \" was potentially <unk> to the John Birch Society . Rather than comply with censorship , Dylan refused to appear . \n",
      " By this time , Dylan and Baez were prominent in the civil rights movement , singing together at the March on Washington on August 28 , 1963 . Dylan 's third album , The Times They Are a @-@ <unk> ' , reflected a more <unk> and cynical Dylan . The songs often took as their subject matter contemporary stories , with \" Only A <unk> In Their Game \" addressing the murder of civil rights worker <unk> Evers ; and the <unk> \" The <unk> Death of <unk> Carroll \" the death of black hotel <unk> <unk> Carroll , at the hands of young white <unk> William <unk> . On a more general theme , \" Ballad of Hollis Brown \" and \" North Country Blues \" addressed despair engendered by the breakdown of farming and mining communities . This political material was accompanied by two personal love songs , \" Boots of Spanish <unk> \" and \" One Too Many <unk> \" . \n",
      " By the end of 1963 , Dylan felt both manipulated and constrained by the folk and protest movements . Accepting the \" Tom <unk> Award \" from the National Emergency Civil Liberties Committee shortly after the assassination of John F. Kennedy , an intoxicated Dylan questioned the role of the committee , characterized the members as old and <unk> , and claimed to see something of himself and of every man in Kennedy 's assassin , Lee Harvey Oswald . \n",
      " Another Side of Bob Dylan , recorded on a single evening in June 1964 , had a lighter mood . The humorous Dylan <unk> on \" I <unk> Be Free No. 10 \" and \" <unk> Nightmare \" . \" Spanish Harlem Incident \" and \" To <unk> \" are passionate love songs , while \" Black Crow Blues \" and \" I Don 't Believe You ( She Acts Like We Never Have Met ) \" suggest the rock and roll soon to dominate Dylan 's music . \" It Ain 't Me Babe \" , on the surface a song about <unk> love , has been described as a rejection of the role of political spokesman thrust upon him . His newest direction was signaled by two lengthy songs : the <unk> \" <unk> of Freedom \" , which sets social commentary against a metaphorical landscape in a style characterized by Allen Ginsberg as \" chains of flashing images , \" and \" My Back <unk> \" , which attacks the simplistic and arch seriousness of his own earlier topical songs and seems to predict the backlash he was about to encounter from his former champions as he took a new direction . \n",
      " In the latter half of 1964 and 1965 , Dylan moved from folk songwriter to folk @-@ rock pop @-@ music star . His <unk> and work shirts were replaced by a <unk> Street wardrobe , <unk> day or night , and pointed \" <unk> boots \" . A London reporter wrote : \" Hair that would set the teeth of a comb on edge . A loud shirt that would dim the neon lights of Leicester Square . He looks like an <unk> <unk> . \" Dylan began to spar with <unk> . Appearing on the Les Crane television show and asked about a movie he planned , he told Crane it would be a <unk> horror movie . Asked if he played the <unk> , Dylan replied , \" No , I play my mother . \" \n",
      " \n",
      " = = = = Going electric = = = = \n",
      " \n",
      " Dylan 's late March 1965 album Bringing It All Back Home was another leap , featuring his first recordings with electric instruments . The first single , \" <unk> <unk> Blues \" , owed much to Chuck Berry 's \" Too Much Monkey Business \" ; its free association lyrics described as <unk> back to the energy of beat poetry and as a forerunner of rap and hip @-@ hop . The song was provided with an early video , which opened D. A. Pennebaker 's <unk> <unk> presentation of Dylan 's 1965 tour of Great Britain , Dont Look Back . Instead of <unk> , Dylan illustrated the lyrics by throwing cue cards containing key words from the song on the ground . Pennebaker said the sequence was Dylan 's idea , and it has been imitated in music videos and advertisements . \n",
      " The second side of Bringing It All Back Home contained four long songs on which Dylan accompanied himself on acoustic guitar and harmonica . \" Mr. <unk> Man \" became one of his best known songs when The Byrds recorded an electric version that reached number one in the US and UK . \" It 's All Over Now , Baby Blue \" and \" It 's <unk> Ma ( I 'm Only Bleeding ) \" were two of Dylan 's most important compositions . \n",
      " In 1965 , heading the Newport Folk Festival , Dylan performed his first electric set since high school with a <unk> group mostly from the Paul <unk> Blues Band , featuring Mike <unk> ( guitar ) , Sam Lay ( drums ) and Jerome Arnold ( bass ) , plus Al Kooper ( organ ) and Barry Goldberg ( piano ) . Dylan had appeared at Newport in 1963 and 1964 , but in 1965 met with cheering and <unk> and left the stage after three songs . One version has it that the boos were from folk fans whom Dylan had alienated by appearing , unexpectedly , with an electric guitar . Murray Lerner , who filmed the performance , said : \" I absolutely think that they were <unk> Dylan going electric . \" An alternative account claims audience members were upset by poor sound and a short set . This account is supported by Kooper and one of the directors of the festival , who reports his recording proves the only boos were in reaction to the MC 's announcement that there was only enough time for a short set . \n",
      " Nevertheless , Dylan 's performance provoked a hostile response from the folk music establishment . In the September issue of Sing Out ! , Ewan <unk> wrote : \" Our traditional songs and ballads are the creations of extraordinarily talented artists working inside disciplines formulated over time ... ' But what of Bobby Dylan ? ' scream the outraged teenagers ... Only a completely non @-@ critical audience , nourished on the watery <unk> of pop music , could have fallen for such tenth @-@ rate <unk> . \" On July 29 , four days after Newport , Dylan was back in the studio in New York , recording \" <unk> 4th Street \" . The lyrics contained images of vengeance and paranoia , and it has been interpreted as Dylan 's put @-@ down of former friends from the folk community — friends he had known in clubs along West 4th Street . \n",
      " \n",
      " = = = = Highway 61 Revisited and Blonde on Blonde = = = = \n",
      " \n",
      " In July 1965 , the single \" Like a Rolling Stone \" peaked at two in the U.S. and at four in the UK charts . At over six minutes , the song altered what a pop single could convey . Bruce Springsteen , in his speech for Dylan 's inauguration into the Rock and Roll Hall of Fame , said that on first hearing the single , \" that <unk> shot sounded like somebody 'd kicked open the door to your mind \" . In 2004 and in 2011 , Rolling Stone listed it as number one of \" The 500 Greatest Songs of All Time \" . The song opened Dylan 's next album , Highway 61 Revisited , named after the road that led from Dylan 's Minnesota to the musical <unk> of New Orleans . The songs were in the same vein as the hit single , flavored by Mike <unk> 's blues guitar and Al Kooper 's organ riffs . \" <unk> Row \" , backed by acoustic guitar and understated bass , offers the sole exception , with Dylan alluding to figures in Western culture in a song described by Andy Gill as \" an 11 @-@ minute epic of entropy , which takes the form of a <unk> @-@ esque parade of <unk> and <unk> featuring a huge cast of celebrated characters , some historical ( Einstein , <unk> ) , some biblical ( <unk> , Cain and <unk> ) , some fictional ( Ophelia , Romeo , Cinderella ) , some literary ( T.S. Eliot and Ezra Pound ) , and some who fit into none of the above categories , notably Dr. <unk> and his dubious nurse . \" \n",
      " In support of the album , Dylan was booked for two U.S. concerts with Al Kooper and Harvey Brooks from his studio crew and Robbie Robertson and Levon Helm , former members of Ronnie Hawkins 's backing band the Hawks . On August 28 at Forest Hills Tennis Stadium , the group was heckled by an audience still annoyed by Dylan 's electric sound . The band 's reception on September 3 at the Hollywood Bowl was more favorable . \n",
      " From September 24 , 1965 , in Austin , Texas , Dylan toured the U.S. and Canada for six months , backed by the five musicians from the Hawks who became known as the Band . While Dylan and the Hawks met increasingly receptive audiences , their studio efforts <unk> . Producer Bob Johnston persuaded Dylan to record in Nashville in February 1966 , and surrounded him with top @-@ notch session men . At Dylan 's insistence , Robertson and Kooper came from New York City to play on the sessions . The Nashville sessions produced the double album Blonde on Blonde ( 1966 ) , featuring what Dylan called \" that thin wild mercury sound \" . Kooper described it as \" taking two cultures and <unk> them together with a huge explosion \" : the musical world of Nashville and the world of the \" quintessential New York <unk> \" Bob Dylan . \n",
      " On November 22 , 1965 , Dylan secretly married 25 @-@ year @-@ old former model Sara Lownds . Some of Dylan 's friends , including Ramblin ' Jack Elliott , say that , immediately after the event , Dylan denied he was married . Journalist <unk> <unk> made the news public in the New York Post in February 1966 with the headline \" <unk> ! Bob Dylan is wed . \" \n",
      " Dylan toured Australia and Europe in April and May 1966 . Each show was split in two . Dylan performed solo during the first half , accompanying himself on acoustic guitar and harmonica . In the second , backed by the Hawks , he played electrically amplified music . This contrast provoked many fans , who <unk> and slow <unk> . The tour culminated in a <unk> confrontation between Dylan and his audience at the Manchester Free Trade Hall in England on May 17 , 1966 . A recording of this concert was released in 1998 : The Bootleg Series Vol . 4 : Bob Dylan Live 1966 . At the climax of the evening , a member of the audience , angered by Dylan 's electric backing , shouted : \" Judas ! \" to which Dylan responded , \" I don 't believe you ... You 're a <unk> ! \" Dylan turned to his band and said , \" Play it fucking loud ! \" as they launched into the final song of the night — \" Like a Rolling Stone \" . \n",
      " During his 1966 tour , Dylan was described as exhausted and acting \" as if on a death trip \" . D. A. Pennebaker , the film maker accompanying the tour , described Dylan as \" taking a lot of <unk> and who @-@ knows @-@ what @-@ else . \" In a 1969 interview with <unk> <unk> , Dylan said , \" I was on the road for almost five years . It wore me down . I was on drugs , a lot of things ... just to keep going , you know ? \" In 2011 , BBC Radio 4 reported that , in an interview that Robert Shelton taped in 1966 , Dylan said he had kicked heroin in New York City : \" I got very , very strung out for a while ... I had about a $ 25 @-@ a @-@ day habit and I kicked it . \" Some journalists questioned the validity of this confession , pointing out that Dylan had \" been telling journalists wild lies about his past since the earliest days of his career . \" \n",
      " \n",
      " = = = = <unk> accident and <unk> = = = = \n",
      " \n",
      " After his tour , Dylan returned to New York , but the pressures increased . ABC Television had paid an advance for a TV show . His publisher , Macmillan , was demanding a manuscript of the poem / novel <unk> . Manager Albert Grossman had scheduled a concert tour for the latter part of the year . \n",
      " On July 29 , 1966 , Dylan crashed his <unk> Triumph Tiger 100 motorcycle near his home in Woodstock , New York and was thrown to the ground . Though the extent of his injuries was never disclosed , Dylan said that he broke several vertebrae in his neck . <unk> still surrounds the circumstances of the accident since no ambulance was called to the scene and Dylan was not hospitalized . Dylan 's biographers have written that the crash offered Dylan the chance to escape the pressures around him . Dylan confirmed this interpretation in his autobiography : \" I had been in a motorcycle accident and I 'd been hurt , but I recovered . Truth was that I wanted to get out of the rat race . \" Dylan withdrew from public and , apart from a few appearances , did not tour again for almost eight years . \n",
      " Once Dylan was well enough to resume creative work , he began to edit D. A. Pennebaker 's film of his 1966 tour . A rough cut was shown to ABC Television and rejected as incomprehensible to a mainstream audience . The film was subsequently titled Eat the <unk> on bootleg copies , and it has been screened at a handful of film festivals . In 1967 he began recording with the Hawks at his home and in the basement of the Hawks ' nearby house , \" Big Pink \" . These songs , initially demos for other artists to record , provided hits for Julie <unk> and the Brian <unk> Trinity ( \" This Wheel 's on Fire \" ) , The Byrds ( \" You Ain 't <unk> ' Nowhere \" , \" Nothing Was <unk> \" ) , and Manfred Mann ( \" Mighty Quinn \" ) . Columbia released selections in 1975 as The Basement Tapes . Over the years , more songs recorded by Dylan and his band in 1967 appeared on bootleg recordings , culminating in a five @-@ CD set titled The Genuine Basement Tapes , containing 107 songs and alternative takes . In the coming months , the Hawks recorded the album Music from Big Pink using songs they worked on in their basement in Woodstock , and renamed themselves the Band , beginning a long recording and performing career of their own . \n",
      " In October and November 1967 , Dylan returned to Nashville . Back in the studio after 19 months , he was accompanied by Charlie McCoy on bass , Kenny <unk> on drums , and Pete Drake on steel guitar . The result was John Wesley Harding , a contemplative record of shorter songs , set in a landscape that drew on the American West and the Bible . The sparse structure and instrumentation , with lyrics that took the <unk> @-@ Christian tradition seriously , departed from Dylan 's own work and from the psychedelic fervor of the 1960s . It included \" All Along the <unk> \" , with lyrics derived from the Book of Isaiah ( 21 : 5 – 9 ) . The song was later recorded by Jimi Hendrix , whose version Dylan acknowledged as definitive . Woody Guthrie died on October 3 , 1967 , and Dylan made his first live appearance in twenty months at a Guthrie memorial concert held at Carnegie Hall on January 20 , 1968 , where he was backed by the Band . \n",
      " Dylan 's next release , Nashville <unk> ( 1969 ) , was mainstream country featuring Nashville musicians , a mellow @-@ voiced Dylan , a duet with Johnny Cash , and the hit single \" Lay Lady Lay \" . Variety wrote , \" Dylan is definitely doing something that can be called singing . Somehow he has managed to add an octave to his range . \" Dylan and Cash also recorded a series of duets , but only their recording of Dylan 's \" Girl from the North Country \" was used on the album . \n",
      " In May 1969 , Dylan appeared on the first episode of Johnny Cash 's television show , <unk> with Cash on \" Girl from the North Country \" , \" I <unk> It All Away \" , and \" Living the Blues \" . Dylan next traveled to England to top the bill at the Isle of Wight festival on August 31 , 1969 , after rejecting overtures to appear at the Woodstock Festival closer to his home . \n",
      " \n",
      " = = = 1970s = = = \n",
      " \n",
      " In the early 1970s , critics charged that Dylan 's output was varied and unpredictable . Rolling Stone writer Greil Marcus asked \" What is this shit ? \" on first listening to Self Portrait , released in June 1970 . Self Portrait , a double LP including few original songs , was poorly received . In October 1970 , Dylan released New Morning , considered a return to form . This album included \" Day of the <unk> \" , a song in which Dylan gave an account of receiving an honorary degree from Princeton University on June 9 , 1970 . In November 1968 , Dylan had co @-@ written \" I 'd Have You <unk> \" with George Harrison ; Harrison recorded \" I 'd Have You <unk> \" and Dylan 's \" If Not for You \" for his 1970 solo triple album All Things Must Pass . Dylan 's surprise appearance at Harrison 's 1971 Concert for Bangladesh attracted media coverage , reflecting that Dylan 's live appearances had become rare . \n",
      " Between March 16 and 19 , 1971 , Dylan reserved three days at Blue Rock , a small studio in Greenwich Village to record with Leon Russell . These sessions resulted in \" <unk> the River Flow \" and a new recording of \" When I <unk> My <unk> \" . On November 4 , 1971 , Dylan recorded \" George Jackson \" , which he released a week later . For many , the single was a surprising return to protest material , mourning the killing of Black Panther George Jackson in San Quentin State Prison that year . Dylan contributed piano and harmony to Steve Goodman 's album , Somebody Else 's Troubles , under the pseudonym Robert <unk> Thomas in September 1972 . \n",
      " In 1972 , Dylan signed to Sam Peckinpah 's film Pat Garrett and Billy the Kid , providing songs and backing music for the movie , and playing \" <unk> \" , a member of Billy 's gang with some historical basis . Despite the film 's failure at the box office , the song \" <unk> ' on Heaven 's <unk> \" became one of Dylan 's most covered songs . \n",
      " \n",
      " = = = = Return to touring = = = = \n",
      " \n",
      " Dylan began 1973 by signing with a new label , David Geffen 's Asylum Records , when his contract with Columbia Records expired . On his next album , Planet Waves , he used the Band as backing group , while rehearsing for a tour . The album included two versions of \" Forever Young \" , which became one of his most popular songs . As one critic described it , the song projected \" something <unk> and heartfelt that spoke of the father in Dylan \" , and Dylan himself commented : \" I wrote it thinking about one of my boys and not wanting to be too sentimental . \" \n",
      " Columbia Records simultaneously released Dylan , a collection of studio outtakes ( almost exclusively covers ) , widely interpreted as a <unk> response to Dylan 's signing with a rival record label . In January 1974 , Dylan returned to touring after seven years ; backed by the Band , he embarked on a North American tour of 40 concerts . A live double album , Before the Flood , was on Asylum Records . Soon , according to Clive Davis , Columbia Records sent word they \" will spare nothing to bring Dylan back into the fold \" . Dylan had second thoughts about Asylum , <unk> that while there had been millions of <unk> ticket requests for the 1974 tour , Geffen had sold only 700 @,@ 000 copies of Planet Waves . Dylan returned to Columbia Records , which reissued his two Asylum albums . \n",
      " After the tour , Dylan and his wife became estranged . He filled a small red notebook with songs about relationships and <unk> , and recorded an album entitled Blood on the Tracks in September 1974 . Dylan delayed the release and re @-@ recorded half the songs at Sound 80 Studios in Minneapolis with production assistance from his brother , David Zimmerman . \n",
      " Released in early 1975 , Blood on the Tracks received mixed reviews . In the NME , Nick Kent described \" the <unk> [ as ] often so <unk> they sound like mere practice takes . \" In Rolling Stone , Jon <unk> wrote that \" the record has been made with typical <unk> . \" Over the years critics came to see it as one of Dylan 's greatest achievements . In <unk> , Bill Wyman wrote : \" Blood on the Tracks is his only flawless album and his best produced ; the songs , each of them , are constructed in disciplined fashion . It is his <unk> album and most dismayed , and seems in <unk> to have achieved a sublime balance between the <unk> @-@ plagued excesses of his mid @-@ 1960s output and the self @-@ consciously simple compositions of his post @-@ accident years . \" <unk> Rick Moody called it \" the <unk> , most honest account of a love affair from tip to stern ever put down on magnetic tape . \" \n",
      " In the middle of that year , Dylan wrote a ballad <unk> boxer Rubin \" Hurricane \" Carter , imprisoned for a triple murder in Paterson , New Jersey , in 1966 . After visiting Carter in jail , Dylan wrote \" Hurricane \" , presenting the case for Carter 's innocence . Despite its length — over eight minutes — the song was released as a single , peaking at 33 on the U.S. Billboard chart , and performed at every 1975 date of Dylan 's next tour , the Rolling Thunder Revue . The tour featured about one hundred performers and supporters from the Greenwich Village folk scene , including T @-@ Bone <unk> , Ramblin ' Jack Elliott , Joni Mitchell , David Mansfield , Roger <unk> , Mick <unk> , Joan Baez , and Scarlet Rivera , whom Dylan discovered walking down the street , her violin case on her back . Allen Ginsberg accompanied the troupe , staging scenes for the film Dylan was shooting . Sam Shepard was hired to write the screenplay , but ended up accompanying the tour as informal chronicler . \n",
      " Running through late 1975 and again through early 1976 , the tour encompassed the release of the album Desire , with many of Dylan 's new songs featuring a <unk> @-@ like narrative style , showing the influence of his new collaborator , playwright Jacques Levy . The 1976 half of the tour was documented by a TV concert special , Hard Rain , and the LP Hard Rain ; no concert album from the better @-@ received and better @-@ known opening half of the tour was released until 2002 's Live 1975 . \n",
      " The 1975 tour with the Revue provided the backdrop to Dylan 's nearly four @-@ hour film <unk> and <unk> , a sprawling narrative mixed with concert footage and <unk> . Released in 1978 , the movie received poor , sometimes scathing , reviews . Later in that year , a two @-@ hour edit , dominated by the concert performances , was more widely released . \n",
      " In November 1976 , Dylan appeared at the Band 's \" farewell \" concert , with Eric Clapton , Joni Mitchell , <unk> Waters , Van Morrison and Neil Young . Martin Scorsese 's cinematic chronicle , The Last <unk> , in 1978 included about half of Dylan 's set . In 1976 , Dylan wrote and <unk> on \" Sign Language \" for Eric Clapton 's No Reason To <unk> . \n",
      " In 1978 , Dylan embarked on a year @-@ long world tour , performing 114 shows in Japan , the Far East , Europe and the US , to a total audience of two million . Dylan assembled an eight piece band and three backing singers . Concerts in Tokyo in February and March were released as the live double album , Bob Dylan At Budokan . Reviews were mixed . Robert Christgau awarded the album a C + rating , giving the album a <unk> review , while Janet Maslin defended it in Rolling Stone , writing : \" These latest live versions of his old songs have the effect of liberating Bob Dylan from the originals . \" When Dylan brought the tour to the U.S. in September 1978 , the press described the look and sound as a ' Las Vegas Tour ' . The 1978 tour grossed more than $ 20 million , and Dylan told the Los Angeles Times that he had debts because \" I had a couple of bad years . I put a lot of money into the movie , built a big house ... and it costs a lot to get divorced in California . \" \n",
      " In April and May 1978 , Dylan took the same band and vocalists into <unk> Studios in Santa Monica , California , to record an album of new material : Street @-@ Legal . It was described by Michael Gray as , \" after Blood On The Tracks , arguably Dylan 's best record of the 1970s : a crucial album documenting a crucial period in Dylan 's own life \" . However , it had poor sound and mixing ( attributed to Dylan 's studio practices ) , <unk> the instrumental detail until a remastered CD release in 1999 restored some of the songs ' strengths . \n",
      " \n",
      " = = = = Christian period = = = = \n",
      " \n",
      " In the late 1970s , Dylan became a born again Christian and released two albums of contemporary gospel music . Slow Train Coming ( 1979 ) featured the guitar accompaniment of Mark <unk> ( of Dire Straits ) and was produced by veteran R & B producer Jerry <unk> . <unk> said that Dylan had tried to <unk> him during the recording . He replied : \" Bob , you 're dealing with a 62 @-@ year @-@ old Jewish <unk> . Let 's just make an album . \" Dylan won the Grammy Award for Best Male Rock Vocal Performance for the song \" Gotta Serve Somebody \" . His second Christian @-@ themed album , Saved ( 1980 ) , received mixed reviews , described by Michael Gray as \" the nearest thing to a follow @-@ up album Dylan has ever made , Slow Train Coming II and inferior \" When touring in late 1979 and early 1980 , Dylan would not play his older , secular works , and he delivered declarations of his faith from the stage , such as : \n",
      " Years ago they ... said I was a prophet . I used to say , \" No I 'm not a prophet \" they say \" Yes you are , you 're a prophet . \" I said , \" No it 's not me . \" They used to say \" You sure are a prophet . \" They used to convince me I was a prophet . Now I come out and say Jesus Christ is the answer . They say , \" Bob Dylan 's no prophet . \" They just can 't handle it . \n",
      " Dylan 's Christianity was unpopular with some fans and musicians . Shortly before his murder , John Lennon recorded \" Serve Yourself \" in response to Dylan 's \" Gotta Serve Somebody \" . By 1981 , Stephen Holden wrote in the New York Times that \" neither age ( he 's now 40 ) nor his much @-@ publicized conversion to born @-@ again Christianity has altered his essentially <unk> temperament . \" \n",
      " \n",
      " = = = 1980s = = = \n",
      " \n",
      " In late 1980 , Dylan briefly played concerts billed as \" A Musical <unk> \" , restoring popular 1960s songs to the repertoire . Shot of Love , recorded early the next year , featured his first secular compositions in more than two years , mixed with Christian songs . \" Every Grain of Sand \" reminded some of William Blake 's verses . \n",
      " In the 1980s , reception of Dylan 's recordings varied , from the well @-@ regarded <unk> in 1983 to the panned Down in the Groove in 1988 . Michael Gray condemned Dylan 's 1980s albums for <unk> in the studio and for failing to release his best songs . As an example of the latter , the <unk> recording sessions , which again employed <unk> on lead guitar and also as the album 's producer , resulted in several notable songs that Dylan left off the album . Best regarded of these were \" Blind Willie <unk> \" , a tribute to the dead blues musician and an evocation of African American history , \" Foot of Pride \" and \" Lord <unk> My Child \" . These three songs were released on The Bootleg Series Volumes 1 – 3 ( Rare & <unk> ) 1961 – 1991 . \n",
      " Between July 1984 and March 1985 , Dylan recorded Empire <unk> . Arthur Baker , who had remixed hits for Bruce Springsteen and <unk> <unk> , was asked to engineer and mix the album . Baker said he felt he was hired to make Dylan 's album sound \" a little bit more contemporary \" . \n",
      " Dylan sang on USA for Africa 's famine relief single \" We Are the World \" . On July 13 , 1985 , he appeared at the climax at the Live Aid concert at JFK Stadium , Philadelphia . Backed by Keith Richards and Ronnie Wood , he performed a ragged version of \" Hollis Brown \" , his ballad of rural poverty , and then said to the worldwide audience exceeding one billion people : \" I hope that some of the money ... maybe they can just take a little bit of it , maybe ... one or two million , maybe ... and use it to pay the <unk> on some of the farms and , the farmers here , owe to the banks . \" His remarks were widely criticized as inappropriate , but they did inspire Willie Nelson to organize a series of events , Farm Aid , to benefit debt @-@ ridden American farmers . \n",
      " In April 1986 , Dylan made a foray into rap music when he added vocals to the opening verse of \" Street Rock \" , featured on <unk> Blow 's album Kingdom Blow . Dylan 's next studio album , <unk> Out <unk> , in July 1986 contained three covers ( by Little Junior Parker , Kris <unk> and the gospel hymn \" <unk> Memories \" ) , plus three collaborations with ( Tom Petty , Sam Shepard and <unk> Bayer <unk> ) , and two solo compositions by Dylan . One reviewer commented that \" the record follows too many detours to be consistently compelling , and some of those detours wind down roads that are indisputably dead ends . By 1986 , such uneven records weren 't entirely unexpected by Dylan , but that didn 't make them any less frustrating . \" It was the first Dylan album since Freewheelin ' ( 1963 ) to fail to make the Top 50 . Since then , some critics have called the 11 @-@ minute epic that Dylan co @-@ wrote with Sam Shepard , \" <unk> Girl \" , a work of genius . \n",
      " In 1986 and 1987 , Dylan toured with Tom Petty and the <unk> , sharing vocals with Petty on several songs each night . Dylan also toured with the <unk> Dead in 1987 , resulting in a live album Dylan & The Dead . This received negative reviews : Allmusic said , \" Quite possibly the worst album by either Bob Dylan or the <unk> Dead . \" Dylan then initiated what came to be called the Never Ending Tour on June 7 , 1988 , performing with a back @-@ up band featuring guitarist G. E. Smith . Dylan continued to tour with a small , evolving band for the next 20 years . \n",
      " In 1987 , Dylan starred in Richard <unk> 's movie Hearts of Fire , in which he played Billy Parker , a washed @-@ up rock star turned chicken farmer whose teenage lover , ( Fiona ) , leaves him for a <unk> English synth @-@ pop sensation played by Rupert Everett . Dylan also contributed two original songs to the soundtrack — \" Night After Night \" , and \" I Had a Dream About You , Baby \" , as well as a cover of John <unk> 's \" The <unk> \" . The film was a critical and commercial flop . Dylan was inducted into the Rock and Roll Hall of Fame in January 1988 , with Bruce Springsteen 's introduction declaring , \" Bob freed your mind the way Elvis freed your body . He showed us that just because music was <unk> physical did not mean that it was anti @-@ intellectual . \n",
      " The album Down in the Groove in May 1988 sold even more unsuccessfully than his previous studio album . Michael Gray wrote : \" The very title <unk> any idea that inspired work may lie within . Here was a further <unk> of the notion of a new Bob Dylan album as something significant . \" The critical and commercial disappointment of that album was swiftly followed by the success of the Traveling Wilburys . Dylan co @-@ founded the band with George Harrison , Jeff <unk> , Roy <unk> , and Tom Petty , and in late 1988 their multi @-@ platinum Traveling Wilburys Vol . 1 reached three on the US album chart , featuring songs that were described as Dylan 's most accessible compositions in years . Despite <unk> 's death in December 1988 , the remaining four recorded a second album in May 1990 with the title Traveling Wilburys Vol . 3 . \n",
      " Dylan finished the decade on a critical high note with Oh Mercy produced by Daniel Lanois . Michael Gray wrote that the album was : \" <unk> written , vocally distinctive , musically warm , and <unk> professional , this cohesive whole is the nearest thing to a great Bob Dylan album in the 1980s . \" The track \" Most of the Time \" , a lost love composition , was later prominently featured in the film High <unk> , while \" What Was It You Wanted ? \" has been interpreted both as a catechism and a <unk> comment on the expectations of critics and fans . The religious imagery of \" Ring Them Bells \" struck some critics as a re @-@ affirmation of faith . \n",
      " \n",
      " = = = 1990s = = = \n",
      " \n",
      " Dylan 's 1990s began with Under the Red Sky ( 1990 ) , an about @-@ face from the serious Oh Mercy . The album contained several apparently simple songs , including \" Under the Red Sky \" and \" <unk> <unk> \" . The album was dedicated to \" <unk> Goo Goo \" , a nickname for the daughter of Dylan and Carolyn Dennis , Desiree Gabrielle Dennis @-@ Dylan , who was four . <unk> on the album included George Harrison , Slash from Guns N ' Roses , David Crosby , Bruce <unk> , Stevie Ray Vaughan , and Elton John . Despite the line @-@ up , the record received bad reviews and sold poorly . \n",
      " In 1991 , Dylan received a Grammy Lifetime Achievement Award from American actor Jack Nicholson . The event coincided with the start of the Gulf War against Saddam Hussein , and Dylan performed \" Masters of War \" . Dylan then made a short speech , saying \" My daddy once said to me , he said , ' Son , it is possible for you to become so <unk> in this world that your own mother and father will abandon you . If that happens , God will believe in your ability to <unk> your own ways . ' \" This sentiment was subsequently revealed to be a quote from 19th @-@ century German Jewish intellectual , Rabbi <unk> Raphael <unk> . \n",
      " The next few years saw Dylan returning to his roots with two albums covering folk and blues numbers : Good as I Been to You ( 1992 ) and World Gone Wrong ( 1993 ) , featuring interpretations and acoustic guitar work . Many critics and fans commented on the quiet beauty of the song \" Lone Pilgrim \" , written by a 19th @-@ century teacher . In November 1994 Dylan recorded two live shows for MTV Unplugged . He said his wish to perform traditional songs was overruled by Sony executives who insisted on hits . The album from it , MTV Unplugged , included \" John Brown \" , an unreleased 1962 song of how enthusiasm for war ends in mutilation and disillusionment . \n",
      " Dylan 's longtime road manager Victor <unk> has claimed that the singer quit drinking alcohol in 1994 . <unk> felt that Dylan sobering up made him \" more <unk> and a little less social . \" \n",
      " With a collection of songs reportedly written while <unk> @-@ in on his Minnesota <unk> , Dylan booked recording time with Daniel Lanois at Miami 's <unk> Studios in January 1997 . The subsequent recording sessions were , by some accounts , fraught with musical tension . Before the album 's release Dylan was hospitalized with a life @-@ threatening heart infection , <unk> , brought on by <unk> . His scheduled European tour was cancelled , but Dylan made a <unk> recovery and left the hospital saying , \" I really thought I 'd be seeing Elvis soon . \" He was back on the road by mid @-@ year , and performed before Pope John Paul II at the World <unk> Conference in Bologna , Italy . The Pope treated the audience of 200 @,@ 000 people to a <unk> based on Dylan 's lyric \" Blowin ' in the Wind \" . \n",
      " September saw the release of the new Lanois @-@ produced album , Time Out of Mind . With its bitter assessment of love and <unk> <unk> , Dylan 's first collection of original songs in seven years was highly acclaimed . One critic wrote : \" the songs themselves are uniformly powerful , adding up to Dylan 's best overall collection in years . \" This collection of complex songs won him his first solo \" Album of the Year \" Grammy Award . \n",
      " In December 1997 , U.S. President Bill Clinton presented Dylan with a Kennedy Center Honor in the East Room of the White House , paying this tribute : \" He probably had more impact on people of my generation than any other creative artist . His voice and lyrics haven 't always been easy on the ear , but throughout his career Bob Dylan has never aimed to please . He 's disturbed the peace and <unk> the powerful . \" \n",
      " In 1999 , Dylan embarked on a North American tour with Paul Simon , where each alternated as headline act with a \" middle \" section where they performed together , starting on the first of June and ending September 18 . The collaboration was generally well @-@ received , with just one critic , Seth <unk> , from the Berkshire Eagle , questioning the collaboration . \n",
      " \n",
      " = = = 2000s = = = \n",
      " \n",
      " Dylan commenced the new millennium by winning the Polar Music Prize in May 2000 and his first Oscar ; his song \" Things Have Changed \" , written for the film Wonder Boys , won an Academy Award in March 2001 . The Oscar , by some reports a facsimile , tours with him , presiding over shows perched atop an amplifier . \n",
      " \" Love and Theft \" was released on September 11 , 2001 . Recorded with his touring band , Dylan produced the album himself under the pseudonym Jack Frost . The album was critically well received and earned nominations for several Grammy awards . Critics noted that Dylan was widening his musical palette to include rockabilly , Western swing , jazz , and even lounge ballads . \" Love and Theft \" generated controversy when The Wall Street Journal pointed out similarities between the album 's lyrics and Japanese author <unk> Saga 's book Confessions of a <unk> . \n",
      " In 2003 , Dylan revisited the evangelical songs from his \" born again \" period and participated in the CD project Gotta Serve Somebody : The Gospel Songs of Bob Dylan . That year also saw the release of the film <unk> & Anonymous , which Dylan co @-@ wrote with director Larry Charles under the <unk> <unk> <unk> . Dylan played the central character in the film , Jack Fate , alongside a cast that included Jeff Bridges , <unk> Cruz and John Goodman . The film <unk> critics : many dismissed it as an \" incoherent mess \" ; a few treated it as a serious work of art . \n",
      " In October 2004 , Dylan published the first part of his autobiography , Chronicles : Volume One . <unk> expectations , Dylan devoted three chapters to his first year in New York City in 1961 – 1962 , virtually ignoring the mid @-@ 1960s when his fame was at its height . He also devoted chapters to the albums New Morning ( 1970 ) and Oh Mercy ( 1989 ) . The book reached number two on The New York Times ' Hardcover Non @-@ Fiction best seller list in December 2004 and was nominated for a National Book Award . \n",
      " No Direction Home , Martin Scorsese 's acclaimed film biography of Dylan , was first broadcast on September 26 – 27 , 2005 , on BBC Two in the UK and PBS in the US . The documentary focuses on the period from Dylan 's arrival in New York in 1961 to his motorcycle crash in 1966 , featuring interviews with <unk> <unk> , Liam Clancy , Joan Baez , Allen Ginsberg , Pete Seeger , Mavis Staples , and Dylan himself . The film received a Peabody Award in April 2006 and a Columbia @-@ <unk> Award in January 2007 . The accompanying soundtrack featured unreleased songs from Dylan 's early career . \n",
      " Dylan earned yet another distinction in a 2007 study of US legal opinions and <unk> that found his lyrics were quoted by judges and lawyers more than those of any other songwriter , 186 times versus 74 by the Beatles , who were second . Among those quoting Dylan were US Supreme Court Chief Justice John Roberts and Justice Antonin <unk> , both <unk> . The most widely cited lines included \" you don 't need a <unk> to know which way the wind blows \" from \" <unk> <unk> Blues \" and \" when you ain 't got nothing , you got nothing to lose \" from \" Like a Rolling Stone \" . \n",
      " \n",
      " = = = = Modern Times = = = = \n",
      " \n",
      " May 3 , 2006 , was the premiere of Dylan 's radio presenting career , hosting a weekly radio program , Theme Time Radio Hour , for <unk> <unk> Radio , with song selections revolving around a chosen theme . Dylan played classic and obscure records from the 1930s to the present day , including contemporary artists as diverse as <unk> , Prince , <unk> Cool J and the Streets . The show was praised by fans and critics as \" great radio , \" as Dylan told stories and made eclectic references with his sardonic humor , while achieving a thematic beauty with his musical choices . In April 2009 , Dylan broadcast the 100th show in his radio series ; the theme was \" <unk> \" and the final record played was Woody Guthrie 's \" So Long , It 's Been Good to Know <unk> \" . This has led to speculation that Dylan 's radio series may have ended . \n",
      " On August 29 , 2006 , Dylan released his Modern Times album . Despite some <unk> of Dylan 's voice ( a critic for The Guardian characterised his singing on the album as \" a <unk> death <unk> \" ) most reviewers praised the album , and many described it as the final installment of a successful trilogy , embracing Time Out of Mind and \" Love and Theft \" . Modern Times entered the U.S. charts at number one , making it Dylan 's first album to reach that position since 1976 's Desire . The New York Times published an article exploring similarities between some of Dylan 's lyrics in Modern Times and the work of the Civil War poet Henry <unk> . \n",
      " <unk> for three Grammy Awards , Modern Times won Best Contemporary Folk / <unk> Album and Bob Dylan also won Best Solo Rock Vocal Performance for \" <unk> Baby \" . Modern Times was named Album of the Year , 2006 , by Rolling Stone magazine , and by Uncut in the UK . On the same day that Modern Times was released the iTunes Music Store released Bob Dylan : The Collection , a digital box set containing all of his albums ( <unk> tracks in total ) , along with 42 rare and unreleased tracks . \n",
      " In August 2007 , the award @-@ winning film biography of Dylan I 'm Not There , written and directed by Todd Haynes , was released — bearing the tagline \" inspired by the music and many lives of Bob Dylan \" . The movie used six different actors to represent different aspects of Dylan 's life : Christian <unk> , <unk> <unk> , Marcus Carl Franklin , Richard <unk> , Heath Ledger and Ben <unk> . Dylan 's previously unreleased 1967 recording from which the film takes its name was released for the first time on the film 's original soundtrack ; all other tracks are covers of Dylan songs , specially recorded for the movie by a diverse range of artists , including Sonic Youth , Eddie <unk> , Mason Jennings , Stephen <unk> , Jeff <unk> , Karen O , Willie Nelson , Cat Power , Richie <unk> , and Tom <unk> . \n",
      " On October 1 , 2007 , Columbia Records released the triple CD retrospective album Dylan , <unk> his entire career under the Dylan 07 logo . As part of this campaign , Mark <unk> produced a re @-@ mix of Dylan 's 1966 tune \" Most <unk> You Go Your Way and I 'll Go Mine \" , which was released as a <unk> @-@ single . This was the first time Dylan had sanctioned a re @-@ mix of one of his classic recordings . \n",
      " The <unk> of the Dylan 07 marketing campaign was a reminder that Dylan 's commercial profile had risen considerably since the 1990s . This first became evident in 2004 , when Dylan appeared in a TV advertisement for Victoria 's Secret lingerie . Three years later , in October 2007 , he participated in a multi @-@ media campaign for the 2008 <unk> <unk> . Then , in 2009 , he gave the highest profile endorsement of his career , appearing with rapper <unk> in a Pepsi ad that debuted during the telecast of Super Bowl <unk> . The ad , broadcast to a record audience of 98 million viewers , opened with Dylan singing the first verse of \" Forever Young \" followed by <unk> doing a hip hop version of the song 's third and final verse . \n",
      " In October 2008 , Columbia released The Bootleg Series Vol . 8 – Tell Tale Signs as both a two @-@ CD set and a three @-@ CD version with a 150 @-@ page hardcover book . The set contains live performances and outtakes from selected studio albums from Oh Mercy to Modern Times , as well as soundtrack contributions and collaborations with David <unk> and Ralph Stanley . The <unk> of the album — the two @-@ CD set went on sale for $ 18 @.@ 99 and the three @-@ CD version for $ 129 @.@ 99 — led to complaints about \" rip @-@ off packaging \" from some fans and commentators . The release was widely acclaimed by critics . The abundance of alternative takes and unreleased material suggested to one reviewer that this volume of old outtakes \" feels like a new Bob Dylan record , not only for the astonishing freshness of the material , but also for the incredible sound quality and organic feeling of everything here . \" \n",
      " \n",
      " = = = = Together Through Life and Christmas in the Heart = = = = \n",
      " \n",
      " Bob Dylan released his album Together Through Life on April 28 , 2009 . In a conversation with music journalist Bill Flanagan , published on Dylan 's website , Dylan explained that the genesis of the record was when French film director Olivier <unk> asked him to supply a song for his new road movie , My Own Love Song ; initially only intending to record a single track , \" Life Is Hard , \" \" the record sort of took its own direction \" . Nine of the ten songs on the album are credited as co @-@ written by Bob Dylan and Robert Hunter . \n",
      " The album received largely favorable reviews , although several critics described it as a minor addition to Dylan 's canon of work . Andy Gill wrote in The Independent that the record \" features Dylan in fairly relaxed , spontaneous mood , content to grab such grooves and sentiments as <unk> momentarily across his radar . So while it may not contain too many landmark tracks , it 's one of the most naturally enjoyable albums you 'll hear all year . \" \n",
      " In its first week of release , the album reached number one in the Billboard 200 chart in the U.S. , making Bob Dylan ( 67 years of age ) the oldest artist to ever debut at number one on that chart . It also reached number one on the UK album chart , 39 years after Dylan 's previous UK album chart <unk> New Morning . This meant that Dylan currently holds the record for the longest gap between solo number one albums in the UK chart . \n",
      " On October 13 , 2009 , Dylan released a Christmas album , Christmas in the Heart , comprising such Christmas standards as \" Little Drummer Boy \" , \" Winter Wonderland \" and \" Here Comes Santa Claus \" . Dylan 's royalties from the sale of this album will benefit the charities Feeding America in the USA , Crisis in the UK , and the World Food Programme . \n",
      " The album received generally favorable reviews . The New Yorker commented that Dylan had <unk> a pre @-@ rock musical sound to \" some of his <unk> vocals in a while \" , and speculated that Dylan 's intentions might be ironic : \" Dylan has a long and highly publicized history with Christianity ; to claim there 's not a <unk> in the childish optimism of ' Here Comes Santa Claus ' or ' Winter Wonderland ' is to ignore a half @-@ century of biting satire . \" In USA Today , Edna Gundersen pointed out that Dylan was \" revisiting <unk> styles popularized by Nat King Cole , <unk> <unk> , and the Ray <unk> Singers . \" Gundersen concluded that Dylan \" couldn 't sound more sentimental or sincere \" . \n",
      " In an interview published in The Big Issue , journalist Bill Flanagan asked Dylan why he had performed the songs in a straightforward style , and Dylan responded : \" There wasn 't any other way to play it . These songs are part of my life , just like folk songs . You have to play them straight too . \" \n",
      " \n",
      " = = = 2010s = = = \n",
      " \n",
      " \n",
      " = = = = Tempest = = = = \n",
      " \n",
      " On October 18 , 2010 , Dylan released Volume 9 of his Bootleg Series , The <unk> <unk> . This comprised 47 demo recordings of songs taped between 1962 and 1964 for Dylan 's earliest music publishers : Leeds Music in 1962 , and <unk> Music from 1962 to 1964 . One reviewer described the set as \" a <unk> glimpse of young Bob Dylan changing the music business , and the world , one note at a time . \" The critical aggregator website Metacritic awarded the album a <unk> of 86 , indicating \" universal acclaim \" . In the same week , Sony Legacy released Bob Dylan : The Original <unk> Recordings , a box set that for the first time presented Dylan 's eight earliest albums , from Bob Dylan ( 1962 ) to John Wesley Harding ( 1967 ) , in their original <unk> mix in the CD format . The CDs were housed in miniature <unk> of the original album covers , replete with original liner notes . The set was accompanied by a booklet featuring an essay by music critic Greil Marcus . \n",
      " On April 12 , 2011 , Legacy Recordings released Bob Dylan in Concert – <unk> University 1963 , taped at <unk> University on May 10 , 1963 , two weeks prior to the release of The Freewheelin ' Bob Dylan . The tape was discovered in the archive of music writer Ralph J. Gleason , and the recording carries liner notes by Michael Gray , who writes the recording captures Dylan \" from way back when Kennedy was President and the Beatles hadn 't yet reached America . It reveals him not at any Big Moment but giving a performance like his folk club sets of the period ... This is the last live performance we have of Bob Dylan before he becomes a star . \" \n",
      " The extent to which his work was studied at an academic level was demonstrated on Dylan 's 70th birthday on May 24 , 2011 , when three universities organized <unk> on his work . The University of <unk> , the University of Vienna , and the University of Bristol invited literary critics and cultural historians to give papers on aspects of Dylan 's work . Other events , including tribute bands , discussions and simple <unk> , took place around the world , as reported in The Guardian : \" From Moscow to Madrid , Norway to Northampton and Malaysia to his home state of Minnesota , self @-@ confessed ' Bobcats ' will gather today to celebrate the 70th birthday of a giant of popular music . \" \n",
      " On October 4 , 2011 , Dylan 's label , Egyptian Records , released an album of previously unheard Hank Williams songs , The Lost <unk> of Hank Williams . Dylan had helped to <unk> this project , in which songs unfinished when Williams died in 1953 were completed and recorded by a variety of artists , including Dylan himself , his son Jakob Dylan , Levon Helm , <unk> Jones , Jack White , and others . \n",
      " On May 29 , 2012 , U.S. President Barack Obama awarded Dylan a Presidential Medal of Freedom in the White House . At the ceremony , Obama praised Dylan 's voice for its \" unique <unk> power that <unk> not just what music sounded like but the message it carried and how it made people feel \" . \n",
      " On September 11 , 2012 , Dylan released his 35th studio album , Tempest . The album features a tribute to John Lennon , \" Roll On John \" , and the title track is a 14 minute song about the sinking of the Titanic . Reviewing Tempest for Rolling Stone , Will Hermes gave the album five out of five stars , writing : \" Lyrically , Dylan is at the top of his game , joking around , dropping wordplay and <unk> that evade pat readings and quoting other <unk> ' words like a freestyle rapper on fire . \" Hermes called Tempest \" one of [ Dylan 's ] <unk> albums ever \" , and opined , \" It may also be the single <unk> record in Dylan 's catalog . \" The critical aggregator website Metacritic awarded the album a score of 83 out of 100 , indicating \" universal acclaim \" . \n",
      " On August 27 , 2013 , Columbia Records released Volume 10 of Dylan 's Bootleg Series , Another Self Portrait ( 1969 – 1971 ) . The album contained 35 previously unreleased tracks , including alternate takes and demos from Dylan 's 1969 – 1971 recording sessions during the making of the Self Portrait and New Morning albums . The box set also included a live recording of Dylan 's performance with the Band at the Isle of Wight Festival in 1969 . Another Self Portrait received favorable reviews , earning a score of 81 on the critical aggregator , Metacritic , indicating \" universal acclaim \" . AllMusic critic Thom Jurek wrote , \" For fans , this is more than a curiosity , it 's an indispensable addition to the catalog . \" \n",
      " On November 4 , 2013 , Columbia Records released Bob Dylan : Complete Album Collection : Vol . One , a <unk> set containing all 35 of Dylan 's studio albums , six albums of live recordings , and a collection , entitled <unk> , of singles , songs from films and non @-@ album material . The box includes new album @-@ by @-@ album liner notes written by Clinton Heylin with an introduction by Bill Flanagan . On the same date , Columbia released a compilation , The Very Best of Bob Dylan , which is available in both single CD and double CD formats . To publicize the 35 album box set , an innovative video of the song \" Like a Rolling Stone \" was released on Dylan 's website . The interactive video , created by director <unk> <unk> , allowed viewers to switch between 16 simulated TV channels , all featuring characters who are lip @-@ <unk> the lyrics of the 48 @-@ year @-@ old song . \n",
      " On February 2 , 2014 , Dylan appeared in a commercial for the Chrysler 200 car which was screened during the 2014 Super Bowl American football game . At the end of the commercial , Dylan says : \" So let Germany <unk> your beer , let Switzerland make your watch , let Asia assemble your phone . We will build your car . \" Dylan 's Super Bowl commercial generated controversy and op @-@ ed pieces discussing the <unk> implications of his words , and whether the singer had \" sold out \" to corporate interests . \n",
      " In 2013 and 2014 , auction house sales demonstrated the high cultural value attached to Dylan 's mid @-@ 1960s work , and the record prices that collectors were willing to pay for artefacts from this period . In December 2013 , the Fender <unk> which Dylan had played at the 1965 Newport Folk Festival <unk> $ 965 @,@ 000 , the second highest price paid for a guitar . In June 2014 , Dylan 's hand @-@ written lyrics of \" Like a Rolling Stone \" , his 1965 hit single , <unk> $ 2 million dollars at auction , a record for a popular music manuscript . \n",
      " On October 28 , 2014 , Simon & Schuster published a massive 960 page , thirteen and a half pound edition of Dylan 's lyrics , Lyrics : Since 1962 . The book was edited by literary critic Christopher Ricks , Julie <unk> and Lisa <unk> , to offer variant versions of Dylan 's songs , sourced from out @-@ takes and live performances . A limited edition of 50 books , signed by Dylan , was priced at $ 5 @,@ 000 . \" It ’ s the biggest , most expensive book we ’ ve ever published , as far as I know , \" said Jonathan <unk> , Simon & Schuster ’ s president and publisher . \n",
      " On November 4 , 2014 , Columbia Records / Legacy Recordings released The Basement Tapes Complete by Bob Dylan and The Band . These 138 tracks in a six @-@ CD box form Volume 11 of Dylan 's Bootleg Series . The 1975 album , The Basement Tapes , contained some of the songs which Dylan and the Band recorded in their homes in Woodstock , New York , in 1967 . Subsequently , over 100 recordings and alternate takes have circulated on bootleg records . The sleeve notes for the new box set are by Sid Griffin , American musician and author of Million Dollar <unk> : Bob Dylan , The Band , and The Basement Tapes . \n",
      " \n",
      " = = = = Shadows in the Night and Fallen Angels = = = = \n",
      " \n",
      " On February 3 , 2015 , Dylan released Shadows in the Night , featuring ten songs written between 1923 and 1963 , which have been described as part of the Great American Songbook . All the songs on the album were recorded by Frank Sinatra but both critics and Dylan himself cautioned against seeing the record as a collection of \" Sinatra covers \" . Dylan explained , \" I don 't see myself as covering these songs in any way . They 've been covered enough . Buried , as a matter a fact . What me and my band are basically doing is uncovering them . <unk> them out of the grave and bringing them into the light of day . \" In an interview , Dylan said he had been thinking about making this record since hearing Willie Nelson 's 1978 album <unk> . \n",
      " Shadows In the Night received favorable reviews , scoring 82 on the critical aggregator Metacritic , which indicates \" universal acclaim \" . Critics praised the restrained instrumental <unk> and Dylan 's singing , saying that the material had elicited his best vocal performances in recent years . Bill Prince in <unk> commented : \" A performer who 's had to hear his influence in virtually every white pop recording made since he debuted his own self @-@ titled album back in 1962 imagines himself into the songs of his pre @-@ rock 'n'roll early youth . \" In The Independent , Andy Gill wrote that the recordings \" have a lingering , languid charm , which ... help to liberate the material from the <unk> <unk> of big @-@ band and cabaret mannerisms . \" The album debuted at number one in the UK albums chart in its first week of release . \n",
      " On October 5 , 2015 , IBM launched a marketing campaign for its Watson computer system which featured Dylan . Dylan is seen conversing with the computer which says it has read all his lyrics and reports : \" My analysis shows that your major themes are that time passes and love fades . \" Dylan replies : \" That sounds about right . \" \n",
      " On November 6 , 2015 , Sony Music released The Bootleg Series Vol . 12 : The Cutting Edge 1965 – 1966 . This work consists of previously unreleased material from the three albums Dylan recorded Between January 1965 and March 1966 : Bringing It All Back Home , Highway 61 Revisited and Blonde on Blonde . The records have been released in three formats : a 2 @-@ CD \" Best Of \" version , a 6 @-@ CD \" Deluxe edition \" , and an 18 @-@ CD \" Collector 's Edition \" in a limited edition of 5 @,@ 000 units . On Dylan 's website the \" Collector 's Edition \" was described as containing \" every single note recorded by Bob Dylan in the studio in 1965 / 1966 \" . The critical aggregator website Metacritic awarded Cutting Edge a score of 99 , indicating universal acclaim . The Best of the Cutting Edge entered the Billboard Top Rock Albums chart at number one on November 18 , based on its first @-@ week sales . \n",
      " On March 2 , 2016 , it was announced that Dylan had sold an extensive archive of about 6 @,@ 000 items to the George Kaiser Family Foundation and the University of <unk> . It was reported that the sale price was \" an estimated $ 15 million to $ 20 million \" , and the archive comprises <unk> , drafts of Dylan lyrics , recordings , and correspondence . Filmed material in the collection includes 30 hours of outtakes from the 1965 tour documentary Dont Look Back , 30 hours of footage shot on Dylan 's legendary 1966 electric tour , and 50 hours shot on the 1975 Rolling Thunder Revue . The archive will be housed at <unk> Center for American Research , a facility at the <unk> Museum . \n",
      " On May 20 , 2016 , Dylan released his 37th studio album , Fallen Angels , which was described as \" a direct continuation of the work of ' uncovering ' the Great Songbook that he began on last year ’ s Shadows In the Night . \" The album contained twelve songs by classic songwriters such as Harold <unk> , Sammy <unk> and Johnny Mercer , eleven of which had been recorded by Sinatra . Jim Farber wrote in Entertainment Weekly : \" <unk> , [ Dylan ] delivers these songs of love lost and cherished not with a burning passion but with the <unk> of experience . They ’ re memory songs now , <unk> with a present sense of commitment . Released just four days ahead of his 75th birthday , they couldn ’ t be more age @-@ appropriate . \" The album received a score of 79 on critical aggregator website Metacritic , denoting \" generally favorable reviews \" . \n",
      " \n",
      " = = Never Ending Tour = = \n",
      " \n",
      " The Never Ending Tour commenced on June 7 , 1988 , and Dylan has played roughly 100 dates a year for the entirety of the 1990s and 2000s — a heavier schedule than most performers who started out in the 1960s . By May 2013 , Dylan and his band had played more than 2 @,@ 500 shows , anchored by long @-@ time bassist Tony Garnier , drummer George <unk> , multi @-@ instrumentalist Donnie <unk> , and guitarist Charlie Sexton . To the dismay of some of his audience , Dylan 's performances remain unpredictable as he alters his arrangements and changes his vocal approach night after night . Critical opinion about Dylan 's shows remains divided . Critics such as Richard Williams and Andy Gill have argued that Dylan has found a successful way to present his rich legacy of material . Others have criticized his live performances for <unk> and spitting out \" the greatest lyrics ever written so that they are effectively <unk> \" , and giving so little to the audience that \" it is difficult to understand what he is doing on stage at all . \" \n",
      " Dylan 's performances in China in April 2011 generated controversy . Some criticised him for not making any explicit comment on the political situation in China , and for , allegedly , allowing the Chinese authorities to censor his set list . Others defended Dylan 's performances , arguing that such criticism represented a misunderstanding of Dylan 's art , and that no evidence for the censorship of Dylan 's set list existed . In response to these allegations , Dylan posted a statement on his website : \" As far as censorship goes , the Chinese government had asked for the names of the songs that I would be playing . There 's no logical answer to that , so we sent them the set lists from the previous 3 months . If there were any songs , verses or lines censored , nobody ever told me about it and we played all the songs that we intended to play . \" \n",
      " Dylan commenced a tour of Japan in Tokyo on April 4 , 2016 , which concluded in Yokohama on April 28 . Dylan announced a tour of the US starting in <unk> WA on June 4 , 2016 , and finishing in <unk> <unk> on July 17 . Dylan has also announced his participation in a so @-@ called \" Mega @-@ <unk> \" titled Desert Trip , in California on October 7 , when he will perform at the same event as the Rolling Stones , Neil Young , Paul McCartney , the Who and Roger Waters . \n",
      " \n",
      " = = Visual artist = = \n",
      " \n",
      " The cover of Dylan 's album Self Portrait ( 1970 ) is a reproduction of a painting of a face by Dylan . Another of his paintings is reproduced on the cover of the 1974 album Planet Waves . In 1994 Random House published Drawn Blank , a book of Dylan 's drawings . In 2007 , the first public exhibition of Dylan 's paintings , The Drawn Blank Series , opened at the <unk> in <unk> , Germany ; it showcased more than 200 watercolors and <unk> made from the original drawings . The exhibition coincided with the publication of Bob Dylan : The Drawn Blank Series , which includes 170 reproductions from the series . From September 2010 until April 2011 , the National Gallery of Denmark exhibited 40 large @-@ scale <unk> paintings by Dylan , The Brazil Series . \n",
      " In July 2011 , a leading contemporary art gallery , Gagosian Gallery , announced their representation of Dylan 's paintings . An exhibition of Dylan 's art , The Asia Series , opened at the Gagosian Madison Avenue Gallery on September 20 , displaying Dylan 's paintings of scenes in China and the Far East . The New York Times reported that \" some fans and <unk> have raised questions about whether some of these paintings are based on the singer 's own experiences and observations , or on photographs that are widely available and were not taken by Mr. Dylan . \" The Times pointed to close <unk> between Dylan 's paintings and historic photos of Japan and China , and photos taken by <unk> <unk> and Henri <unk> @-@ <unk> . The Magnum photo agency confirmed that Dylan had licensed the reproduction rights of these photographs . \n",
      " Dylan 's second show at the Gagosian Gallery , <unk> Art , opened in November 2012 . The show consisted of thirty paintings , transforming and <unk> popular magazines , including Playboy and <unk> . In February 2013 , Dylan exhibited the New Orleans Series of paintings at the <unk> <unk> in Milan . In August 2013 , Britain 's National Portrait Gallery in London hosted Dylan 's first major UK exhibition , Face <unk> , featuring twelve <unk> portraits . \n",
      " In November 2013 , the <unk> Gallery , in London , exhibited seven wrought iron gates created by Dylan ( the exhibition was entitled <unk> <unk> ) . In a statement released by the gallery , Dylan said , \" I 've been around iron all my life ever since I was a kid . I was born and raised in iron ore country , where you could <unk> it and smell it every day . Gates appeal to me because of the negative space they allow . They can be closed but at the same time they allow the seasons and breezes to enter and flow . They can shut you out or shut you in . And in some ways there is no difference . \" \n",
      " Since 1994 , Dylan has published six books of paintings and drawings . \n",
      " \n",
      " = = Discography = = \n",
      " \n",
      " \n",
      " = = Accolades = = \n",
      " \n",
      " Dylan has won many awards throughout his career including eleven Grammy Awards , one Academy Award and one Golden Globe Award . He has been inducted into the Rock and Roll Hall of Fame , Nashville Songwriters Hall of Fame , and Songwriters Hall of Fame . In May 2000 , Dylan was awarded the Polar Music Prize . He received the Presidential Medal of Freedom in May 2012 . In February 2015 , Dylan accepted the <unk> Person of the Year award from the National Academy of Recording Arts and Sciences , in recognition of his philanthropic and artistic contributions to society . \n",
      " \n",
      " = = Personal life = = \n",
      " \n",
      " \n",
      " = = = Family = = = \n",
      " \n",
      " Dylan married Sara Lownds on November 22 , 1965 . Their first child , Jesse Byron Dylan , was born on January 6 , 1966 , and they had three more children : Anna Lea ( born July 11 , 1967 ) , Samuel Isaac <unk> ( born July 30 , 1968 ) , and Jakob Luke ( born December 9 , 1969 ) . Dylan also adopted Sara 's daughter from a prior marriage , Maria Lownds ( later Dylan , born October 21 , 1961 ) . Bob and Sara Dylan were divorced on June 29 , 1977 . Maria married musician Peter <unk> in 1988 . In the 1990s , Dylan 's son Jakob became well known as the lead singer of the band The <unk> . Jesse Dylan is a film director and a successful businessman . \n",
      " Desiree Gabrielle Dennis @-@ Dylan , Dylan 's daughter with his backup singer Carolyn Dennis ( often professionally known as Carol Dennis ) , was born on January 31 , 1986 , and Dylan married Carolyn Dennis on June 4 , 1986 . The couple divorced in October 1992 . Their marriage and child remained a closely guarded secret until the publication of Howard <unk> ' Dylan biography , Down the Highway : The Life Of Bob Dylan in 2001 . \n",
      " When not touring , Dylan is believed to live primarily in Point <unk> , a promontory on the coast of Malibu , California , though he also owns property around the world . \n",
      " \n",
      " = = = Religious beliefs = = = \n",
      " \n",
      " Growing up in Hibbing , Minnesota , Dylan and his family were part of the area 's small but close @-@ knit Jewish community , and in May 1954 Dylan had his Bar <unk> . Around the time of his 30th birthday , in 1971 , Dylan visited Israel , and also met Rabbi <unk> Kahane , founder of the New York @-@ based Jewish Defense League . Time magazine quoted him saying about Kahane , \" He 's a really sincere guy . He 's really put it all together . \" Subsequently , Dylan <unk> the extent of his contact with Kahane . \n",
      " During the late 1970s and early 1980s , Dylan converted to Christianity . From January to April 1979 , he participated in Bible study classes at the <unk> School of <unk> in <unk> , California . Pastor <unk> <unk> has recalled : \" Larry Myers and Paul <unk> went over to Bob 's house and <unk> to him . He responded by saying , ' Yes he did in fact want Christ in his life . ' And he prayed that day and received the Lord . \" \n",
      " By 1984 , Dylan was <unk> himself from the \" born again \" label . He told Kurt <unk> of Rolling Stone magazine : \" I 've never said I 'm born again . That 's just a media term . I don 't think I 've been an agnostic . I 've always thought there 's a superior power , that this is not the real world and that there 's a world to come . \" In response to <unk> 's asking whether he belonged to any church or synagogue , Dylan <unk> replied , \" Not really . Uh , the Church of the Poison Mind . \" In 1997 he told David Gates of Newsweek : \n",
      " Here 's the thing with me and the religious thing . This is the flat @-@ out truth : I find the <unk> and philosophy in the music . I don 't find it anywhere else . Songs like \" Let Me Rest on a <unk> Mountain \" or \" I Saw the Light \" — that 's my religion . I don 't <unk> to <unk> , preachers , <unk> , all of that . I 've learned more from the songs than I 've learned from any of this kind of entity . The songs are my lexicon . I believe the songs . \n",
      " In an interview published in The New York Times on September 28 , 1997 , journalist Jon Pareles reported that \" Dylan says he now <unk> to no organized religion . \" \n",
      " Dylan has been a supporter of the Chabad <unk> movement in the last 20 years , and has privately participated in Jewish religious events , including the Bar <unk> of his sons and attending Hadar <unk> , a Chabad <unk> <unk> . In September 1989 and September 1991 , he appeared on the Chabad <unk> . Dylan reportedly visits Chabad <unk> ; on <unk> <unk> in 2007 he attended Congregation Beth <unk> , in Atlanta , Georgia , where he was called to the Torah for the sixth <unk> . \n",
      " Dylan has continued to perform songs from his gospel albums in concert , occasionally covering traditional religious songs . He has also made passing references to his religious faith — such as in a 2004 interview with 60 Minutes , when he told Ed Bradley that \" the only person you have to think twice about lying to is either yourself or to God . \" He also explained his constant touring schedule as part of a <unk> he made a long time ago with the \" chief commander — in this earth and in the world we can 't see . \" \n",
      " In a 2009 interview with Bill Flanagan promoting Dylan 's Christmas LP , Christmas in the Heart , Flanagan commented on the \" heroic performance \" Dylan gave of \" O Little Town of Bethlehem \" and that he \" delivered the song like a true believer \" . Dylan replied : \" Well , I am a true believer . \" \n",
      " \n",
      " = = Legacy = = \n",
      " \n",
      " Dylan has been described as one of the most influential figures of the 20th century , musically and culturally . He was included in the Time 100 : The Most Important People of the Century where he was called \" master poet , <unk> social critic and intrepid , guiding spirit of the counterculture generation \" . In 2008 , The Pulitzer Prize jury awarded him a special citation for \" his profound impact on popular music and American culture , marked by lyrical compositions of extraordinary poetic power . \" President Barack Obama said of Dylan in 2012 , \" There is not a bigger giant in the history of American music . \" In their 2008 assessment of the \" 100 Greatest Singers \" , Rolling Stone magazine ranked him at number seven . Rolling Stone then ranked Dylan at number two in its 2011 list of \" 100 Greatest Artists \" of all time , while \" Like A Rolling Stone \" was listed as the \" Greatest Song of all Time . \" In 2008 , it was estimated that Dylan had sold about 120 million albums worldwide . \n",
      " Initially modeling his writing style on the songs of Woody Guthrie , the blues of Robert Johnson , and what he termed the \" architectural forms \" of Hank Williams songs , Dylan added increasingly sophisticated lyrical techniques to the folk music of the early 1960s , <unk> it \" with the <unk> of classic literature and poetry \" . Paul Simon suggested that Dylan 's early compositions virtually took over the folk genre : \" [ Dylan 's ] early songs were very rich ... with strong melodies . ' Blowin ' in the Wind ' has a really strong melody . He so enlarged himself through the folk background that he incorporated it for a while . He defined the genre for a while . \" \n",
      " When Dylan made his move from acoustic folk and blues music to a rock backing , the mix became more complex . For many critics , his greatest achievement was the cultural synthesis exemplified by his mid @-@ 1960s trilogy of albums — Bringing It All Back Home , Highway 61 Revisited and Blonde on Blonde . In Mike <unk> 's words : \n",
      " Between late 1964 and the middle of 1966 , Dylan created a body of work that remains unique . Drawing on folk , blues , country , R & B , rock 'n'roll , gospel , British beat , <unk> , modernist and Beat poetry , surrealism and <unk> , advertising <unk> and social commentary , <unk> and Mad magazine , he forged a coherent and original artistic voice and vision . The beauty of these albums retains the power to shock and console . \" \n",
      " Dylan 's lyrics began to receive detailed scrutiny from academics and poets . Literary critic Christopher Ricks published a 500 @-@ page analysis of Dylan 's work , placing him in the context of Eliot , Keats and Tennyson , claiming that Dylan was a poet worthy of the same close analysis . Former British poet laureate Sir Andrew Motion argued that his lyrics should be studied in schools . Since 1996 , academics have lobbied the Swedish Academy to award Dylan the Nobel Prize in Literature . \n",
      " Dylan 's voice also received critical attention . New York Times critic Robert Shelton described his early vocal style as \" a rusty voice suggesting Guthrie 's old performances , etched in gravel like Dave Van Ronk 's . \" David Bowie , in his tribute , \" Song for Bob Dylan \" , described Dylan 's singing as \" a voice like sand and glue \" . His voice continued to develop as he began to work with rock 'n'roll backing bands ; critic Michael Gray described the sound of Dylan 's vocal work on \" Like a Rolling Stone \" as \" at once young and <unk> cynical \" . As Dylan 's voice aged during the 1980s , for some critics , it became more expressive . Christophe <unk> writes in the journal Oral Tradition , \" Dylan 's more recent broken voice enables him to present a world view at the sonic surface of the songs — this voice carries us across the landscape of a broken , fallen world . The anatomy of a broken world in \" Everything is Broken \" ( on the album Oh Mercy ) is but an example of how the thematic concern with all things broken is grounded in a concrete sonic reality . \" \n",
      " Dylan is considered a seminal influence on several musical genres , especially folk rock , country rock and Christian rock . As Edna Gundersen stated in USA Today : \" Dylan 's musical DNA has informed nearly every simple twist of pop since 1962 . \" Punk musician Joe <unk> praised Dylan for having \" laid down the template for lyric , tune , seriousness , spirituality , depth of rock music . \" Other major musicians who acknowledged Dylan 's importance include Johnny Cash , Jerry Garcia , John Lennon , Paul McCartney , Pete <unk> , Neil Young , Bruce Springsteen , David Bowie , Bryan Ferry , Nick Cave , Patti Smith , Syd Barrett Joni Mitchell , and Tom <unk> . Dylan significantly contributed to the initial success of both the Byrds and the Band : the Byrds achieved chart success with their version of \" Mr. <unk> Man \" and the subsequent album , while the Band were Dylan 's backing band on his 1966 tour , recorded The Basement Tapes with him in 1967 , and featured three previously unreleased Dylan songs on their debut album . \n",
      " Some critics have <unk> from the view of Dylan as a visionary figure in popular music . In his book <unk> <unk> , <unk> <unk> objected : \" I can 't take the vision of Dylan as seer , as teenage <unk> , as everything else he 's been worshipped as . The way I see him , he 's a minor talent with a major gift for self @-@ hype . \" Australian critic Jack <unk> credited Dylan with changing the persona of the rock star : \" What cannot be disputed is that Dylan invented the arrogant , faux @-@ <unk> posturing that has been the dominant style in rock since , with everyone from Mick Jagger to Eminem <unk> themselves from the Dylan <unk> . \" \n",
      " Fellow musicians also presented dissenting views . Joni Mitchell described Dylan as a \" <unk> \" and his voice as \" fake \" in a 2010 interview in the Los Angeles Times , in response to a suggestion that she and Dylan were similar since they had both created personas . Mitchell 's comment led to discussions of Dylan 's use of other people 's material , both supporting and criticizing him . In 2013 Mitchell told the Canadian Broadcasting Corporation ( <unk> ) in an interview that her remarks in the Los Angeles Times had been taken \" completely out of context \" , and that the interviewer was a \" <unk> \" . Mitchell added : \" I like a lot of Bob 's songs . Musically he 's not very gifted . He 's borrowed his voice from old <unk> . He 's got a lot of borrowed things . He 's not a great guitar player . He 's invented a character to deliver his songs . \" \n",
      " Talking to <unk> Gilmore in Rolling Stone in 2012 , Dylan responded to the allegation of plagiarism , including his use of Henry <unk> 's verse in his album Modern Times , by saying that it was \" part of the tradition \" . \n",
      " If Dylan 's work in the 1960s was seen as bringing intellectual ambition to popular music , critics in the 21st century described him as a figure who had greatly expanded the folk culture from which he initially emerged . Following the release of Todd Haynes ' Dylan <unk> I 'm Not There , J. <unk> wrote in his 2007 Village Voice review : \n",
      " Elvis might never have been born , but someone else would surely have brought the world rock ' n ' roll . No such logic accounts for Bob Dylan . No iron law of history demanded that a would @-@ be Elvis from Hibbing , Minnesota , would <unk> through the Greenwich Village folk revival to become the world 's first and greatest rock ' n ' roll <unk> bard and then — having achieved fame and adoration beyond reckoning — vanish into a folk tradition of his own making . \n",
      " Prior to the June 2014 sale of the original lyrics of \" Like a Rolling Stone \" , written on four sheets of hotel <unk> by Dylan in 1965 , Richard Austin , of <unk> 's , New York , said : \" Before the release of Like a Rolling Stone , music charts were overrun with short and sweet love songs , many <unk> in at three minutes or less . By <unk> convention with six and a half minutes of dark , brooding poetry , Dylan rewrote the rules for pop music . \" \n",
      " \n"
     ]
    }
   ],
   "source": [
    "print(train[l.index(max(l))])"
   ]
  },
  {
   "cell_type": "code",
   "execution_count": 31,
   "metadata": {},
   "outputs": [
    {
     "name": "stdout",
     "output_type": "stream",
     "text": [
      " \n",
      " = M @-@ 122 ( Michigan highway ) = \n",
      " \n",
      " M @-@ 122 was a state trunkline highway in the US state of Michigan entirely in the city of St. Ignace . The highway connected US Highway 2 ( US 2 ) to the State Highway Ferry Dock used before the Mackinac Bridge was built . It was retired and the road returned to local control in 1957 . \n",
      " \n",
      " = = Route description = = \n",
      " \n",
      " Prior to the opening of the Mackinac Bridge , travelers wishing to venture from St. Ignace to Mackinaw City had to do so via ferry . M @-@ 122 began at US 2 ( now Business Loop Interstate 75 ) near Straits State Park and traveled through town along Ferry Road where it ran southeasterly from the main highway . East of <unk> Street M @-@ 122 curved around to the east near <unk> Street . The highway ended at the State Ferry Docks on the southeast side of the city next to the Coast Guard station . \n",
      " \n",
      " = = History = = \n",
      " \n",
      " M @-@ 122 was initially assumed into the state highway system in 1929 as a connector between US 31 and Straits State Park . In 1936 , US 2 was routed into St. Ignace and US 31 was scaled back to end in the Lower Peninsula in Mackinaw City . M @-@ 122 now provided a connection between US 2 and the new docks on the southeast side of the city . It existed in this capacity until 1957 when the Mackinac Bridge opened to traffic . \n",
      " \n",
      " = = Major intersections = = \n",
      " \n",
      " The entire highway was in St. Ignace , Mackinac County . \n",
      " \n"
     ]
    }
   ],
   "source": [
    "print(train[l.index(min(l))])"
   ]
  },
  {
   "cell_type": "code",
   "execution_count": 32,
   "metadata": {},
   "outputs": [
    {
     "name": "stdout",
     "output_type": "stream",
     "text": [
      " \n",
      " = Common starling = \n",
      " \n",
      " The common starling ( Sturnus vulgaris ) , also known as the European starling , or in the British Isles just the starling , is a medium @-@ sized <unk> bird in the starling family , Sturnidae . It is about 20 cm ( 8 in ) long and has glossy black plumage with a metallic <unk> , which is speckled with white at some times of year . The legs are pink and the bill is black in winter and yellow in summer ; young birds have <unk> plumage than the adults . It is a noisy bird , especially in communal roosts and other gregarious situations , with an <unk> but varied song . Its gift for mimicry has been noted in literature including the <unk> and the works of Pliny the Elder and William Shakespeare . \n",
      " The common starling has about a dozen subspecies breeding in open habitats across its native range in temperate Europe and western Asia , and it has been introduced to Australia , New Zealand , Canada , United States , Mexico , Peru , Argentina , the Falkland Islands , Brazil , Chile , Uruguay , South Africa and Fiji . This bird is resident in southern and western Europe and southwestern Asia , while northeastern populations migrate south and west in winter within the breeding range and also further south to Iberia and North Africa . The common starling builds an untidy nest in a natural or artificial cavity in which four or five glossy , pale blue eggs are laid . These take two weeks to hatch and the young remain in the nest for another three weeks . There are normally one or two breeding attempts each year . This species is omnivorous , taking a wide range of invertebrates , as well as seeds and fruit . It is hunted by various mammals and birds of prey , and is host to a range of external and internal parasites . \n",
      " Large flocks typical of this species can be beneficial to agriculture by controlling invertebrate pests ; however , starlings can also be pests themselves when they feed on fruit and sprouting crops . Common starlings may also be a nuisance through the noise and mess caused by their large urban roosts . Introduced populations in particular have been subjected to a range of controls , including culling , but these have had limited success except in preventing the colonisation of Western Australia . The species has declined in numbers in parts of northern and western Europe since the 1980s due to fewer grassland invertebrates being available as food for growing chicks . Despite this , its huge global population is not thought to be declining significantly , so the common starling is classified as being of least concern by the International Union for Conservation of Nature . \n",
      " \n",
      " = = Taxonomy and <unk> = = \n",
      " \n",
      " The common starling was first described by Linnaeus in his Systema <unk> in 1758 under its current binomial name . Sturnus and vulgaris are derived from the Latin for \" starling \" and \" common \" respectively . The Old English <unk> , later stare , and the Latin <unk> are both derived from an unknown Indo @-@ European root dating back to the second millennium BC . \" <unk> \" was first recorded in the 11th century , when it referred to the juvenile of the species , but by the 16th century it had already largely <unk> \" stare \" to refer to birds of all ages . The older name is referenced in William Butler Yeats ' poem \" The <unk> 's Nest by My Window \" . The International <unk> Congress ' preferred English vernacular name is common starling . \n",
      " The starling family , Sturnidae , is an entirely Old World group apart from introductions elsewhere , with the greatest numbers of species in Southeast Asia and sub @-@ Saharan Africa . The genus Sturnus is <unk> and relationships between its members are not fully resolved . The closest relation of the common starling is the spotless starling . The non @-@ migratory spotless starling may be descended from a population of ancestral S. vulgaris that survived in an Iberian <unk> during an ice age retreat , and mitochondrial gene studies suggest that it could be considered as a subspecies of the common starling . There is more genetic variation between common starling populations than between nominate common starling and spotless starling . Although common starling remains are known from the Middle Pleistocene , part of the problem in resolving relationships in the Sturnidae is the <unk> of the fossil record for the family as a whole . \n",
      " \n",
      " = = = Subspecies = = = \n",
      " \n",
      " There are several subspecies of the common starling , which vary <unk> in size and the colour tone of the adult plumage . The gradual variation over geographic range and extensive <unk> means that acceptance of the various subspecies varies between authorities . \n",
      " Subspecies \n",
      " Birds from Fair Isle , St <unk> and the Outer Hebrides are intermediate in size between S. v. zetlandicus and the nominate form , and their subspecies placement varies according to the authority . The dark juveniles typical of these island forms are occasionally found in mainland Scotland and elsewhere , indicating some gene flow from <unk> or zetlandicus , subspecies formerly considered to be isolated . \n",
      " Several other subspecies have been named , but are generally no longer considered valid . Most are intergrades that occur where the ranges of various subspecies meet . These include : S. v. <unk> <unk> , 1891 and S. v. <unk> <unk> , 1904 , which are intergrades between vulgaris and <unk> from western Russia ; S. v. <unk> <unk> , 1905 and S. v. <unk> <unk> and <unk> , 1909 , intergrades between vulgaris and <unk> from the southern Balkans to central Ukraine and throughout Greece to the <unk> ; and S. v. <unk> <unk> , 1928 , an <unk> between <unk> and <unk> in northern Iran . S. v. <unk> <unk> , 1928 from southern Iran 's ( <unk> Province ) is very similar to S. v. vulgaris , and it is not clear whether it is a distinct resident population or simply migrants from southeastern Europe . \n",
      " \n",
      " = = Description = = \n",
      " \n",
      " The common starling is 19 – 23 cm ( 7 @.@ 5 – 9 @.@ 1 in ) long , with a wingspan of 31 – 44 cm ( 12 – 17 in ) and a weight of 58 – 101 g ( 2 @.@ 0 – 3 @.@ 6 oz ) . Among standard measurements , the wing chord is 11 @.@ 8 to 13 @.@ 8 cm ( 4 @.@ 6 to 5 @.@ 4 in ) , the tail is 5 @.@ 8 to 6 @.@ 8 cm ( 2 @.@ 3 to 2 @.@ 7 in ) , the <unk> is 2 @.@ 5 to 3 @.@ 2 cm ( 0 @.@ 98 to 1 @.@ 26 in ) and the <unk> is 2 @.@ 7 to 3 @.@ 2 cm ( 1 @.@ 1 to 1 @.@ 3 in ) . The plumage is <unk> black , <unk> purple or green , and spangled with white , especially in winter . The underparts of adult male common starlings are less spotted than those of adult females at a given time of year . The throat feathers of males are long and loose and are used in display while those of females are smaller and more pointed . The legs are stout and <unk> or greyish @-@ red . The bill is narrow and conical with a sharp tip ; in the winter it is brownish @-@ black but in summer , females have lemon yellow beaks while males have yellow bills with blue @-@ grey bases . <unk> occurs once a <unk> in late summer after the breeding season has finished ; the fresh feathers are prominently tipped white ( breast feathers ) or buff ( wing and back feathers ) , which gives the bird a speckled appearance . The reduction in the spotting in the breeding season is achieved through the white feather tips largely wearing off . Juveniles are grey @-@ brown and by their first winter resemble adults though often retaining some brown juvenile <unk> , especially on the head . They can usually be <unk> by the colour of the irises , rich brown in males , mouse @-@ brown or grey in females . <unk> the contrast between an iris and the central always @-@ dark pupil is 97 % accurate in determining sex , rising to 98 % if the length of the throat feathers is also considered . The common starling is mid @-@ sized by both starling standards and <unk> standards . It is readily distinguished from other mid @-@ sized <unk> , such as <unk> , <unk> or small <unk> , by its relatively short tail , sharp , blade @-@ like bill , round @-@ bellied shape and strong , sizeable ( and rufous @-@ coloured ) legs . In flight , its strongly pointed wings and dark colouration are distinctive , while on the ground its strange , somewhat <unk> gait is also characteristic . The colouring and build usually distinguish this bird from other starlings , although the closely related spotless starling may be physically distinguished by the lack of <unk> spots in adult breeding plumage . \n",
      " Like most terrestrial starlings the common starling moves by walking or running , rather than hopping . Their flight is quite strong and direct ; their triangular @-@ shaped wings beat very rapidly , and periodically the birds <unk> for a short way without losing much height before resuming powered flight . When in a flock , the birds take off almost simultaneously , wheel and turn in <unk> , form a compact mass or trail off into a <unk> stream , bunch up again and land in a coordinated fashion . Common starling on migration can fly at 60 – 80 km / h ( 37 – 50 mph ) and cover up to 1 @,@ 000 – 1 @,@ 500 km ( 620 – 930 mi ) . \n",
      " Several terrestrial starlings , including those in the genus Sturnus , have adaptations of the skull and muscles that help with feeding by probing . This adaptation is most strongly developed in the common starling ( along with the spotless and white @-@ <unk> starlings ) , where the <unk> muscles responsible for opening the jaw are enlarged and the skull is narrow , allowing the eye to be moved forward to peer down the length of the bill . This technique involves inserting the bill into the ground and opening it as a way of searching for hidden food items . Common starlings have the physical traits that enable them to use this feeding technique , which has undoubtedly helped the species spread far and wide . \n",
      " In Iberia , the western Mediterranean and northwest Africa , the common starling may be confused with the closely related spotless starling , the plumage of which , as its name implies , has a more uniform colour . At close range it can be seen that the latter has longer throat feathers , a fact particularly noticeable when it sings . \n",
      " \n",
      " = = = Voice = = = \n",
      " \n",
      " The common starling is a noisy bird . Its song consists of a wide variety of both melodic and mechanical @-@ sounding noises as part of a ritual succession of sounds . The male is the main <unk> and engages in bouts of song lasting for a minute or more . Each of these typically includes four varieties of song type , which follow each other in a regular order without pause . The bout starts with a series of pure @-@ tone whistles and these are followed by the main part of the song , a number of variable sequences that often incorporate <unk> of song mimicked from other species of bird and various naturally occurring or man @-@ made noises . The structure and simplicity of the sound mimicked is of greater importance than the frequency with which it occurs . Each sound clip is repeated several times before the bird moves on to the next . After this variable section comes a number of types of repeated <unk> followed by a final burst of high @-@ frequency song , again formed of several types . Each bird has its own repertoire with more proficient birds having a range of up to 35 variable song types and as many as 14 types of <unk> . \n",
      " Males sing constantly as the breeding period approaches and perform less often once pairs have bonded . In the presence of a female , a male sometimes flies to his nest and sings from the entrance , apparently attempting to entice the female in . Older birds tend to have a wider repertoire than younger ones . Those males that engage in longer bouts of singing and that have wider <unk> attract mates earlier and have greater reproductive success than others . Females appear to prefer mates with more complex songs , perhaps because this indicates greater experience or longevity . Having a complex song is also useful in defending a territory and <unk> less experienced males from encroaching . \n",
      " Singing also occurs outside the breeding season , taking place throughout the year apart from the <unk> period . The <unk> are more commonly male although females also sing on occasion . The function of such out @-@ of @-@ season song is poorly understood . Eleven other types of call have been described including a flock call , threat call , attack call , <unk> call and copulation call . The alarm call is a harsh scream , and while foraging together common starlings <unk> incessantly . They <unk> while roosting and bathing , making a great deal of noise that can cause irritation to people living nearby . When a flock of common starlings is flying together , the <unk> movements of the birds ' wings make a distinctive <unk> sound that can be heard hundreds of metres ( yards ) away . \n",
      " \n",
      " = = Behaviour and ecology = = \n",
      " \n",
      " The common starling is a highly gregarious species , especially in autumn and winter . Although flock size is highly variable , huge , noisy flocks - <unk> - may form near roosts . These dense concentrations of birds are thought to be a defence against attacks by birds of prey such as peregrine falcons or Eurasian <unk> . Flocks form a tight sphere @-@ like formation in flight , frequently expanding and contracting and changing shape , seemingly without any sort of leader . Each common starling changes its course and speed as a result of the movement of its closest neighbours . Very large roosts , exceptionally up to 1 @.@ 5 million birds , can form in city centres , woodlands or <unk> , causing problems with their droppings . These may accumulate up to 30 cm ( 12 in ) deep , killing trees by their concentration of chemicals . In smaller amounts , the droppings act as a fertiliser , and therefore woodland managers may try to move roosts from one area of a wood to another to benefit from the soil enhancement and avoid large toxic deposits . \n",
      " Huge flocks of more than a million common starlings may be observed just before sunset in spring in southwestern Jutland , Denmark over the seaward <unk> of <unk> and <unk> municipalities between <unk> and <unk> . They gather in March until northern Scandinavian birds leave for their breeding ranges by mid @-@ April . Their swarm behaviour creates complex shapes <unk> against the sky , a phenomenon known locally as sort <unk> ( \" black sun \" ) . Flocks of anything from five to fifty thousand common starlings form in areas of the UK just before <unk> during mid @-@ winter . These flocks are commonly called <unk> . \n",
      " \n",
      " = = = Feeding = = = \n",
      " \n",
      " The common starling is largely insectivorous and feeds on both pest and other <unk> . The food range includes spiders , crane flies , <unk> , <unk> , <unk> , damsel flies , grasshoppers , <unk> , <unk> , <unk> , flies , beetles , <unk> , bees , wasps and ants . Both adults and larvae are consumed and common starlings will also feed on earthworms , snails , small amphibians and lizards . While the consumption of invertebrates is necessary for successful breeding , common starlings are omnivorous and can also eat grains , seeds , fruits , nectar and food waste if the opportunity arises . The Sturnidae differ from most birds in that they cannot easily <unk> foods containing high levels of <unk> , although they can cope with other fruits such as grapes and cherries . The isolated Azores subspecies of the common starling eats the eggs of the endangered <unk> <unk> . Measures are being introduced to reduce common starling populations by culling before the <unk> return to their breeding colonies in spring . \n",
      " There are several methods by which common starlings obtain their food but for the most part , they forage close to the ground , taking insects from the surface or just underneath . Generally , common starlings prefer foraging amongst short @-@ cropped grasses and are often found among grazing animals or perched on their backs , where they will also feed on the mammal 's external parasites . Large flocks may engage in a practice known as \" roller @-@ feeding \" , where the birds at the back of the flock continually fly to the front where the feeding opportunities are best . The larger the flock , the nearer individuals are to one another while foraging . Flocks often feed in one place for some time , and return to previous successfully <unk> sites . \n",
      " There are three types of foraging behaviour observed in the common starling . \" <unk> \" involves the bird <unk> its beak into the ground randomly and <unk> until an insect has been found , and is often accompanied by bill <unk> where the bird opens its beak in the soil to <unk> a hole . This behaviour , first described by Konrad Lorenz and given the German term <unk> , is also used to create and widen holes in plastic garbage bags . It takes time for young common starlings to perfect this technique , and because of this the diet of young birds will often contain fewer insects . \" <unk> \" is the capture of flying insects directly from the air , and \" <unk> \" is the less common technique of striking forward to catch a moving invertebrate on the ground . <unk> are caught by pulling from soil . Common starlings that have periods without access to food , or have a reduction in the hours of light available for feeding , compensate by increasing their body mass by the deposition of fat . \n",
      " \n",
      " = = = <unk> = = = \n",
      " \n",
      " <unk> males find a suitable cavity and begin to build nests in order to attract single females , often <unk> the nest with ornaments such as flowers and fresh green material , which the female later <unk> upon accepting him as a mate . The amount of green material is not important , as long as some is present , but the presence of herbs in the decorative material appears to be significant in attracting a mate . The scent of plants such as <unk> acts as an olfactory <unk> to females . \n",
      " The males sing throughout much of the construction and even more so when a female approaches his nest . Following copulation , the male and female continue to build the nest . Nests may be in any type of hole , common locations include inside <unk> trees , buildings , tree stumps and man @-@ made nest @-@ boxes . S. v. zetlandicus typically breeds in crevices and holes in cliffs , a habitat only rarely used by the nominate form . Nests are typically made out of straw , dry grass and twigs with an inner lining made up of feathers , wool and soft leaves . Construction usually takes four or five days and may continue through incubation . \n",
      " Common starlings are both monogamous and <unk> ; although broods are generally brought up by one male and one female , occasionally the pair may have an extra <unk> . <unk> may be part of a colony , in which case several other nests may occupy the same or nearby trees . Males may mate with a second female while the first is still on the nest . The reproductive success of the bird is poorer in the second nest than it is in the primary nest and is better when the male remains monogamous . \n",
      " \n",
      " = = = Breeding = = = \n",
      " \n",
      " Breeding takes place during the spring and summer . Following copulation , the female lays eggs on a daily basis over a period of several days . If an egg is lost during this time , she will lay another to replace it . There are normally four or five eggs that are <unk> in shape and pale blue or occasionally white , and they commonly have a glossy appearance . The colour of the eggs seems to have evolved through the relatively good visibility of blue at low light levels . The egg size is 26 @.@ 5 – 34 @.@ 5 mm ( 1 @.@ 04 – 1 @.@ 36 in ) in length and 20 @.@ 0 – 22 @.@ 5 mm ( 0 @.@ 79 – 0 @.@ 89 in ) in maximum diameter . \n",
      " Incubation lasts thirteen days , although the last egg laid may take 24 hours longer than the first to hatch . Both parents share the responsibility of brooding the eggs , but the female spends more time <unk> them than does the male , and is the only parent to do so at night when the male returns to the communal roost . The young are born blind and naked . They develop light fluffy down within seven days of hatching and can see within nine days . Once the chicks are able to regulate their body temperature , about six days after hatching , the adults largely cease removing droppings from the nest . Prior to that , the <unk> would wet both the chicks ' plumage and the nest material , thereby reducing their effectiveness as <unk> and increasing the risk of chilling the <unk> . <unk> remain in the nest for three weeks , where they are fed continuously by both parents . Fledglings continue to be fed by their parents for another one or two weeks . A pair can raise up to three broods per year , frequently reusing and <unk> the same nest , although two broods is typical , or just one north of <unk> . Within two months , most juveniles will have <unk> and gained their first basic plumage . They acquire their adult plumage the following year . As with other <unk> , the nest is kept clean and the chicks ' <unk> sacs are removed by the adults . \n",
      " <unk> brood parasites are common in common starling nests . Female \" <unk> \" ( <unk> females during the breeding season ) present in colonies often lay eggs in another pair 's nest . Fledglings have also been reported to invade their own or neighbouring nests and evict a new brood . Common starling nests have a 48 % to 79 % rate of successful fledging , although only 20 % of nestlings survive to breeding age ; the adult survival rate is closer to 60 % . The average life span is about 2 – 3 years , with a longevity record of 22 <unk> 11 m . \n",
      " \n",
      " = = Predators and parasites = = \n",
      " \n",
      " A majority of starling predators are avian . The typical response of starling groups is to take flight , with a common sight being undulating flocks of starling flying high in quick and agile patterns . Their abilities in flight are seldom matched by birds of prey . Adult common starlings are hunted by hawks such as the northern <unk> ( <unk> <unk> ) and Eurasian <unk> ( <unk> <unk> ) , and falcons including the peregrine falcon ( Falco <unk> ) , Eurasian <unk> ( Falco <unk> ) and common <unk> ( Falco <unk> ) . <unk> raptors like black and red <unk> ( <unk> <unk> & <unk> ) , eastern imperial eagle ( Aquila <unk> ) , common <unk> ( Buteo <unk> ) and <unk> harrier ( Circus <unk> ) tend to take the more easily caught fledglings or juveniles . While perched in groups by night , they can be vulnerable to owls , including the little owl ( Athene <unk> ) , long @-@ eared owl ( <unk> <unk> ) , short @-@ eared owl ( <unk> <unk> ) , barn owl ( <unk> <unk> ) , tawny owl ( <unk> <unk> ) and Eurasian eagle @-@ owl ( <unk> <unk> ) . \n",
      " More than twenty species of hawk , owl and falcon are known to occasionally predate feral starlings in North America , though the most regular predators of adults are likely to be urban @-@ living peregrine falcons or <unk> ( Falco <unk> ) . Common <unk> ( <unk> <unk> ) sometimes evict eggs , nestlings and adult common starlings from their nests , and the lesser <unk> ( <unk> minor ) , a brood parasite , uses the common starling as a host . <unk> are more commonly the culprits rather than victims of nest <unk> however , especially towards other starlings and woodpeckers . Nests can be raided by animals capable of climbing to them , such as stoats ( <unk> <unk> ) , raccoons ( Procyon <unk> ) and squirrels ( <unk> spp . ) , and cats may catch the <unk> . \n",
      " Common starlings are hosts to a wide range of parasites . A survey of three hundred common starlings from six US states found that all had at least one type of parasite ; 99 % had external fleas , mites or ticks , and 95 % carried internal parasites , mostly various types of worm . Blood @-@ sucking species leave their host when it dies , but other external parasites stay on the corpse . A bird with a deformed bill was heavily infested with <unk> lice , presumably due to its inability to remove <unk> . \n",
      " The hen flea ( <unk> gallinae ) is the most common flea in their nests . The small , pale house @-@ sparrow flea C. <unk> , is also occasionally found there and probably arises from the habit of its main host of taking over the nests of other species . This flea does not occur in the US , even on house <unk> . <unk> include <unk> <unk> , <unk> <unk> and <unk> <unk> . Other <unk> parasites include <unk> ticks and mites such as <unk> <unk> , <unk> <unk> , <unk> gallinae , <unk> <unk> , O. <unk> , <unk> species , <unk> <unk> and <unk> <unk> . The hen <unk> D. gallinae is itself preyed upon by the predatory <unk> <unk> <unk> . The presence of this control on numbers of the parasitic species may explain why birds are prepared to reuse old nests . \n",
      " Flying insects that <unk> common starlings include the <unk> @-@ fly <unk> <unk> and the <unk> fly <unk> <unk> . The latter species breaks off the feathers of its host and lives on the <unk> produced by growing plumage . <unk> of the moth <unk> <unk> are nest scavengers , which feed on animal material such as <unk> or dead nestlings . <unk> blood parasites of the genus <unk> have been found in common starlings , but a better known pest is the brilliant scarlet nematode <unk> <unk> . This worm moves from the lungs to the <unk> and may cause its host to <unk> . In Britain , the <unk> and the common starling are the most infested wild birds . Other recorded internal parasites include the spiny @-@ headed worm <unk> <unk> . \n",
      " Common starlings may contract avian tuberculosis , avian malaria and <unk> @-@ induced <unk> . Captive starlings often accumulate excess iron in the liver , a condition that can be prevented by adding black tea @-@ leaves to the food . \n",
      " \n",
      " = = Distribution and habitat = = \n",
      " \n",
      " The global population of common starlings was estimated to be 310 million individuals in 2004 , occupying a total area of 8 @,@ <unk> @,@ 000 km2 ( 3 @,@ 420 @,@ 000 sq mi ) . Widespread throughout the Northern Hemisphere , the bird is native to Eurasia and is found throughout Europe , northern Africa ( from Morocco to Egypt ) , India ( mainly in the north but regularly extending further south and extending into the Maldives ) Nepal , the Middle East including Syria , Iran , and Iraq and north @-@ western China . \n",
      " Common starlings in the south and west of Europe and south of latitude <unk> are mainly resident , although other populations migrate from regions where the winter is harsh , the ground frozen and food scarce . Large numbers of birds from northern Europe , Russia and Ukraine migrate south <unk> or south eastwards . In the autumn , when immigrants are arriving from eastern Europe , many of Britain 's common starlings are setting off for Iberia and North Africa . Other groups of birds are in passage across the country and the pathways of these different streams of bird may cross . Of the 15 @,@ 000 birds ringed as nestlings in Merseyside , England , individuals have been recovered at various times of year as far afield as Norway , Sweden , Finland , Russia , Ukraine , Poland , Germany and the Low Countries . Small numbers of common starling have sporadically been observed in Japan and Hong Kong but it is unclear from where these birds originated . In North America , northern populations have developed a migration pattern , <unk> much of Canada in winter . Birds in the east of the country move southwards , and those from further west winter in the southwest of the US . \n",
      " Common starlings prefer urban or suburban areas where artificial structures and trees provide adequate nesting and roosting sites . <unk> are also favoured for roosting and the birds commonly feed in grassy areas such as farmland , grazing pastures , playing fields , golf courses and airfields where short grass makes foraging easy . They occasionally inhabit open forests and woodlands and are sometimes found in shrubby areas such as Australian <unk> . Common starlings rarely inhabit dense , wet forests ( i.e. rainforests or wet <unk> forests ) but are found in coastal areas , where they nest and roost on cliffs and forage amongst seaweed . Their ability to adapt to a large variety of habitats has allowed them to disperse and establish themselves in diverse locations around the world resulting in a habitat range from coastal wetlands to alpine forests , from sea cliffs to mountain ranges 1 @,@ 900 m ( 6 @,@ 200 ft ) above sea level . \n",
      " \n",
      " = = = Introduced populations = = = \n",
      " \n",
      " The common starling has been introduced to and has successfully established itself in New Zealand , Australia , South Africa , North America , Fiji and several Caribbean islands . As a result , it has also been able to migrate to Thailand , Southeast Asia and New Guinea . \n",
      " \n",
      " = = = = South America = = = = \n",
      " \n",
      " Five individuals conveyed on a ship from England <unk> near <unk> de <unk> in Venezuela in November 1949 , but subsequently vanished . In 1987 , a small population of common starlings was observed nesting in gardens in the city of Buenos Aires . Since then , despite some initial attempts at eradication , the bird has been expanding its breeding range at an average rate of 7 @.@ 5 km ( 4 @.@ 7 mi ) per year , keeping within 30 km ( 19 mi ) of the Atlantic coast . In Argentina , the species makes use of a variety of natural and man @-@ made nesting sites , particularly <unk> holes . \n",
      " \n",
      " = = = = Australia = = = = \n",
      " \n",
      " The common starling was introduced to Australia to consume insect pests of farm crops . Early settlers looked forward to their arrival , believing that common starlings were also important for the <unk> of flax , a major agricultural product . Nest @-@ boxes for the newly released birds were placed on farms and near crops . The common starling was introduced to Melbourne in 1857 and Sydney two decades later . By the 1880s , established populations were present in the southeast of the country thanks to the work of <unk> committees . By the 1920s , common starlings were widespread throughout Victoria , Queensland and New South Wales , but by then they were considered to be pests . Although common starlings were first sighted in Albany , Western Australia in 1917 , they have been largely prevented from spreading to the state . The wide and arid <unk> Plain provides a natural barrier and control measures have been adopted that have killed 55 @,@ 000 birds over three decades . The common starling has also colonised Lord Howe Island and Norfolk Island . \n",
      " \n",
      " = = = = New Zealand = = = = \n",
      " \n",
      " The early settlers in New Zealand cleared the bush and found their newly planted crops were invaded by hordes of <unk> and other insects deprived of their previous food sources . Native birds were not <unk> to living in close proximity to man so the common starling was introduced from Europe to control the pests . It was first brought over in 1862 by the Nelson <unk> Society and other introductions followed . The birds soon became established and are now found all over the country including the subtropical <unk> Islands to the north and the equally distant Macquarie Island far to the south . \n",
      " \n",
      " = = = = North America = = = = \n",
      " \n",
      " After two failed attempts , about 60 common starlings were released in 1890 into New York 's Central Park by Eugene <unk> . He was president of the American <unk> Society , which tried to introduce every bird species mentioned in the works of William Shakespeare into North America . About the same date , the Portland Song Bird Club released 35 pairs of common starlings in Portland , Oregon . These birds became established but disappeared around 1902 . Common starlings <unk> in the Pacific Northwest in the mid @-@ 1940s and these birds were probably descendants of the 1890 Central Park introduction . The original 60 birds have since swelled in number to 150 million , occupying an area extending from southern Canada and Alaska to Central America . \n",
      " \n",
      " = = = = Polynesia = = = = \n",
      " \n",
      " The common starling appears to have arrived in Fiji in 1925 on Ono @-@ i @-@ <unk> and <unk> islands . It may have colonised from New Zealand via Raoul in the <unk> Islands where it is abundant , that group being roughly <unk> between New Zealand and Fiji . Its spread in Fiji has been limited , and there are doubts about the population 's viability . Tonga was colonised at about the same date and the birds there have been slowly spreading north through the group . \n",
      " \n",
      " = = = = South Africa = = = = \n",
      " \n",
      " In South Africa , the common starling was introduced in 1897 by Cecil Rhodes . It spread slowly and by 1954 had reached <unk> and Port Elizabeth . It is now common in the southern Cape region , thinning out northwards to the Johannesburg area . It is present in the Western Cape , the Eastern Cape and the Free State provinces of South Africa and lowland <unk> , with occasional sightings in KwaZulu @-@ Natal , <unk> and around the town of <unk> in <unk> . In Southern Africa populations appear to be resident and the bird is very much associated with man , his <unk> and pastures . It favours irrigated land and is absent from regions where the ground is baked so dry that it cannot probe for insects . It may compete with native birds for crevice nesting sites but the indigenous species are probably more disadvantaged by destruction of their natural habitat than they are by inter @-@ specific competition . It breeds from September to December and outside the breeding season may <unk> in large flocks , often roosting in <unk> . It is the most common bird species in urban and agricultural areas . \n",
      " \n",
      " = = = = West Indies = = = = \n",
      " \n",
      " The common starling was introduced to Jamaica in 1903 , and the Bahamas and Cuba were colonised naturally from the US . This bird is fairly common but local in Jamaica , Grand <unk> and <unk> , and is rare in the rest of the Bahamas , eastern Cuba , the Cayman Islands , Puerto Rico and St. Croix . \n",
      " \n",
      " = = Status = = \n",
      " \n",
      " The global population of the common starling is estimated to be more than 310 million individuals and its numbers are not thought to be declining significantly , so the bird is classified by the International Union for Conservation of Nature as being of least concern . It had shown a marked increase in numbers throughout Europe from the 19th century to around the 1950s and 60s . In about 1830 , S. v. vulgaris expanded its range in the British Isles , spreading into Ireland and areas of Scotland where it had formerly been absent , although S. v. zetlandicus was already present in Shetland and the Outer Hebrides . The common starling has bred in northern Sweden from 1850 and in Iceland from 1935 . The breeding range spread through southern France to northeastern Spain , and there were other range expansions particularly in Italy , Austria and Finland . It started breeding in Iberia in 1960 , while the spotless starling 's range had been expanding northward since the 1950s . The low rate of advance , about 4 @.@ 7 km ( 2 @.@ 9 mi ) per year for both species , is due to the <unk> mountain and woodland terrain . <unk> has since slowed even further due to direct competition between the two similar species where they overlap in southwestern France and northwestern Spain . \n",
      " Major declines in populations have been observed from 1980 onward in Sweden , Finland , northern Russia ( <unk> ) and the Baltic States , and smaller declines in much of the rest of northern and central Europe . The bird has been adversely affected in these areas by intensive agriculture , and in several countries it has been red @-@ listed due to population declines of more than 50 % . Numbers dwindled in the United Kingdom by more than 80 % between 1966 and 2004 ; although populations in some areas such as Northern Ireland were stable or even increased , those in other areas , mainly England , declined even more sharply . The overall decline seems to be due to the low survival rate of young birds , which may be caused by changes in agricultural practices . The intensive farming methods used in northern Europe mean there is less pasture and meadow habitat available , and the supply of grassland invertebrates needed for the nestlings to thrive is <unk> reduced . \n",
      " \n",
      " = = Relationship with humans = = \n",
      " \n",
      " \n",
      " = = = <unk> and problems = = = \n",
      " \n",
      " Since common starlings eat insect pests such as <unk> , they are considered beneficial in northern Eurasia , and this was one of the reasons given for introducing the birds elsewhere . Around 25 million nest boxes were erected for this species in the former Soviet Union , and common starlings were found to be effective in controlling the grass <unk> <unk> <unk> in New Zealand . The original Australian introduction was facilitated by the provision of nest boxes to help this mainly insectivorous bird to breed successfully , and even in the US , where this is a pest species , the Department of Agriculture acknowledges that vast numbers of insects are consumed by common starlings . \n",
      " Common starlings introduced to areas such as Australia or North America , where other members of the genus are absent , may affect native species through competition for nest holes . In North America , <unk> , <unk> , woodpeckers , purple <unk> and other swallows may be affected . In Australia , competitors for nesting sites include the <unk> and eastern rosellas . For its role in the decline of local native species and the damages to agriculture , the common starling has been included in the IUCN List of the world 's 100 worst invasive species . \n",
      " Common starlings can eat and damage fruit in orchards such as grapes , <unk> , olives , currants and tomatoes or dig up newly <unk> grain and sprouting crops . They may also eat animal feed and distribute seeds through their droppings . In eastern Australia , weeds like <unk> <unk> , <unk> and <unk> are thought to have been spread by common starlings . Agricultural damage in the US is estimated as costing about US $ 800 million annually . This bird is not considered to be as damaging to agriculture in South Africa as it is in the United States . \n",
      " The large size of flocks can also cause problems . Common starlings may be sucked into aircraft jet engines , one of the worst instances of this being an incident in Boston in 1960 , when sixty @-@ two people died after a turboprop airliner flew into a flock and <unk> into the sea at Winthrop Harbor . \n",
      " <unk> ' droppings can contain the fungus <unk> <unk> , the cause of <unk> in humans . At roosting sites this fungus can thrive in accumulated droppings . There are a number of other infectious diseases that can potentially be transmitted by common starlings to humans , although the potential for the birds to spread infections may have been exaggerated . \n",
      " \n",
      " = = = Control = = = \n",
      " \n",
      " Because of the damage they do , there have been attempts to control the numbers of both native and introduced populations of common starlings . Within the natural breeding range , this may be affected by legislation . For example , in Spain , this is a species hunted commercially as a food item , and has a close season , whereas in France , it is classed as a pest , and the season in which it may be killed covers the greater part of the year . In the UK , the common starling may be killed at any time of year . This species is migratory , so birds involved in control measures may have come from a wide area and breeding populations may not be greatly affected . In Europe , the varying legislation and mobile populations mean that control attempts may have limited long @-@ term results . Non @-@ lethal techniques such as <unk> with visual or auditory devices have only a temporary effect in any case . \n",
      " Huge urban roosts in cities can create problems due to the noise and mess made and the smell of the droppings . In 1949 , so many birds landed on the clock hands of London 's Big Ben that it stopped , leading to unsuccessful attempts to disrupt the roosts with netting , repellent chemical on the ledges and broadcasts of common starling alarm calls . An entire episode of The <unk> Show in 1954 was a parody of the futile efforts to disrupt the large common starling roosts in central London . \n",
      " Where it is introduced , the common starling is unprotected by legislation , and extensive control plans may be initiated . Common starlings can be prevented from using nest boxes by ensuring that the access holes are smaller than the 1 @.@ 5 in ( 38 mm ) diameter they need , and the removal of <unk> <unk> them from visiting bird <unk> . \n",
      " Western Australia banned the import of common starlings in 1895 . New flocks arriving from the east are routinely shot , while the less cautious juveniles are trapped and netted . New methods are being developed , such as <unk> one bird and tracking it back to establish where other members of the flock roost . Another technique is to <unk> the DNA of Australian common starling populations to track where the migration from eastern to western Australia is occurring so that better <unk> strategies can be used . By 2009 , only 300 common starlings were left in Western Australia , and the state committed a further A $ 400 @,@ 000 in that year to continue the eradication programme . \n",
      " In the United States , common starlings are exempt from the <unk> Bird Treaty Act , which prohibits the taking or killing of migratory birds . No permit is required to remove nests and eggs or kill juveniles or adults . Research was undertaken in 1966 to identify a suitable <unk> that would both kill common starlings and would readily be eaten by them . It also needed to be of low toxicity to mammals and not likely to cause the death of pets that ate dead birds . The chemical that best fitted these criteria was DRC @-@ <unk> , now marketed as <unk> . In 2008 , the United States government poisoned , shot or trapped 1 @.@ 7 million birds , the largest number of any nuisance species to be destroyed . In 2005 , the population in the United States was estimated at 140 million birds , around 45 % of the global total of 310 million . \n",
      " \n",
      " = = = In science and culture = = = \n",
      " \n",
      " Common starlings may be kept as pets or as laboratory animals . Austrian <unk> Konrad Lorenz wrote of them in his book King Solomon 's Ring as \" the poor man 's dog \" and \" something to love \" , because nestlings are easily obtained from the wild and after careful hand rearing they are straightforward to look after . They adapt well to captivity , and thrive on a diet of standard bird feed and <unk> . Several birds may be kept in the same cage , and their <unk> makes them easy to train or study . The only disadvantages are their <unk> and indiscriminate defecation habits and the need to take precautions against diseases that may be transmitted to humans . As a laboratory bird , the common starling is second in numbers only to the domestic <unk> . \n",
      " The common starling 's gift for mimicry has long been recognised . In the medieval Welsh <unk> , <unk> <unk> a common starling , \" taught it words \" , and sent it across the Irish Sea with a message to her brothers , <unk> and <unk> , who then sailed from Wales to Ireland to rescue her . Pliny the Elder claimed that these birds could be taught to speak whole sentences in Latin and Greek , and in Henry IV , William Shakespeare had Hotspur declare \" The king forbade my tongue to speak of Mortimer . But I will find him when he is asleep , and in his ear I 'll <unk> ' Mortimer ! ' <unk> I 'll have a starling shall be taught to speak nothing but Mortimer , and give it to him to keep his anger still in motion . \" \n",
      " Mozart had a pet common starling which could sing part of his Piano Concerto in G Major ( <unk> . 453 ) . He had bought it from a shop after hearing it sing a phrase from a work he wrote six weeks previously , which had not yet been performed in public . He became very attached to the bird and arranged an elaborate funeral for it when it died three years later . It has been suggested that his A Musical <unk> ( K. 522 ) might be written in the comical , <unk> style of a starling 's <unk> . Other people who have owned common starlings report how adept they are at picking up phrases and expressions . The words have no meaning for the starling , so they often mix them up or use them on what to humans are inappropriate occasions in their songs . Their ability at mimicry is so great that strangers have looked in vain for the human they think they have just heard speak . \n",
      " Common starlings are trapped for food in some Mediterranean countries . The meat is tough and of low quality , so it is <unk> or made into <unk> . One recipe said it should be <unk> \" until tender , however long that may be \" . Even when correctly prepared , it may still be seen as an acquired taste . \n",
      " \n"
     ]
    }
   ],
   "source": [
    "print(train[-1])"
   ]
  },
  {
   "cell_type": "markdown",
   "metadata": {},
   "source": [
    "## Prepare the data"
   ]
  },
  {
   "cell_type": "markdown",
   "metadata": {},
   "source": [
    "Follow tokenization in https://github.com/salesforce/awd-lstm-lm/blob/master/data.py to compare benchmarks."
   ]
  },
  {
   "cell_type": "code",
   "execution_count": 12,
   "metadata": {},
   "outputs": [],
   "source": [
    "from collections import Counter"
   ]
  },
  {
   "cell_type": "markdown",
   "metadata": {},
   "source": [
    "Could easily replace wiht a generator if desirable"
   ]
  },
  {
   "cell_type": "code",
   "execution_count": 13,
   "metadata": {},
   "outputs": [],
   "source": [
    "EOS = '<eos>'\n",
    "def tokenise(s, eos=True):\n",
    "    tokens = []\n",
    "    for line in s.split('\\n'):\n",
    "        toks = line.split()\n",
    "        toks.append(EOS)\n",
    "        tokens += toks\n",
    "    return tokens"
   ]
  },
  {
   "cell_type": "code",
   "execution_count": 14,
   "metadata": {},
   "outputs": [],
   "source": [
    "tokens = Counter()\n",
    "for article in train:\n",
    "    tokens.update(tokenise(article))"
   ]
  },
  {
   "cell_type": "code",
   "execution_count": 15,
   "metadata": {},
   "outputs": [
    {
     "data": {
      "text/plain": [
       "33278"
      ]
     },
     "execution_count": 15,
     "metadata": {},
     "output_type": "execute_result"
    }
   ],
   "source": [
    "len(tokens)"
   ]
  },
  {
   "cell_type": "markdown",
   "metadata": {},
   "source": [
    "Most common tokens"
   ]
  },
  {
   "cell_type": "code",
   "execution_count": 16,
   "metadata": {},
   "outputs": [
    {
     "data": {
      "text/plain": [
       "[('the', 113161),\n",
       " (',', 99913),\n",
       " ('.', 73388),\n",
       " ('of', 56889),\n",
       " ('<unk>', 54625),\n",
       " ('and', 50603),\n",
       " ('in', 39453),\n",
       " ('to', 39190),\n",
       " ('<eos>', 36718),\n",
       " ('a', 34237),\n",
       " ('=', 29570),\n",
       " ('\"', 28309),\n",
       " ('was', 20985),\n",
       " ('The', 17602),\n",
       " ('@-@', 16906),\n",
       " ('that', 14135),\n",
       " ('as', 14021),\n",
       " (\"'s\", 14002),\n",
       " ('on', 13678),\n",
       " ('for', 13307),\n",
       " ('with', 12606),\n",
       " ('by', 12148),\n",
       " (')', 12004),\n",
       " ('(', 11992),\n",
       " ('is', 11637),\n",
       " ('from', 8941),\n",
       " ('his', 8395),\n",
       " ('at', 8186),\n",
       " ('were', 7330),\n",
       " ('it', 6748)]"
      ]
     },
     "execution_count": 16,
     "metadata": {},
     "output_type": "execute_result"
    }
   ],
   "source": [
    "sorted([(k, v) for k, v in tokens.items()], key=lambda x: -x[1])[:30]"
   ]
  },
  {
   "cell_type": "markdown",
   "metadata": {},
   "source": [
    "Least common tokens (all have frequency of 3 - because tokens with frequency less than 3 were dropped).\n",
    "\n",
    "This is questionable; maybe it should be dropped if it didn't appear in at least 2 different articles.\n",
    "\n",
    "We *could* choose to cap infrequent words here - hyperparameter."
   ]
  },
  {
   "cell_type": "code",
   "execution_count": 17,
   "metadata": {},
   "outputs": [
    {
     "data": {
      "text/plain": [
       "[('γ', 3),\n",
       " ('O.W.C.A.', 3),\n",
       " ('Urocerus', 3),\n",
       " ('Echinodontium', 3),\n",
       " ('yellowwoods', 3),\n",
       " ('tomentum', 3),\n",
       " ('secretion', 3),\n",
       " ('spruces', 3),\n",
       " ('Lewenthal', 3),\n",
       " ('Caprices', 3),\n",
       " ('étude', 3),\n",
       " ('études', 3),\n",
       " ('mineurs', 3),\n",
       " ('Sonatine', 3),\n",
       " ('Chants', 3),\n",
       " ('Sonate', 3),\n",
       " ('Philipp', 3),\n",
       " ('prefaced', 3),\n",
       " ('Souvenirs', 3),\n",
       " ('sonate', 3),\n",
       " ('Chant', 3),\n",
       " ('Kreutzer', 3),\n",
       " ('Forrester', 3),\n",
       " ('Zoromski', 3),\n",
       " ('roundabouts', 3),\n",
       " ('Tuscola', 3),\n",
       " ('northeasterly', 3),\n",
       " ('intergrades', 3),\n",
       " ('Nests', 3),\n",
       " ('gallinae', 3)]"
      ]
     },
     "execution_count": 17,
     "metadata": {},
     "output_type": "execute_result"
    }
   ],
   "source": [
    "sorted([(k, v) for k, v in tokens.items()], key=lambda x: -x[1])[-30:]"
   ]
  },
  {
   "cell_type": "markdown",
   "metadata": {},
   "source": [
    "Mapping tokens to numbers and back again"
   ]
  },
  {
   "cell_type": "code",
   "execution_count": 18,
   "metadata": {},
   "outputs": [],
   "source": [
    "TOK_PAD = '<pad>'\n",
    "TOK_UNK = '<unk>'"
   ]
  },
  {
   "cell_type": "code",
   "execution_count": 19,
   "metadata": {},
   "outputs": [
    {
     "data": {
      "text/plain": [
       "33279"
      ]
     },
     "execution_count": 19,
     "metadata": {},
     "output_type": "execute_result"
    }
   ],
   "source": [
    "idx2tok = [TOK_PAD] + [x[0] for x in sorted([(k, v) for k, v in tokens.items()], key=lambda x: (-x[1], x[0]))]\n",
    "tok2idx = {t:i for i, t in enumerate(idx2tok)}\n",
    "def numericalise(x): return tok2idx[x]\n",
    "n_tok = len(idx2tok)\n",
    "n_tok"
   ]
  },
  {
   "cell_type": "markdown",
   "metadata": {},
   "source": [
    "Check mapping to unknown words is done correctly: we expect only tokens in training set to be in validation and test and that the ratio of `<unk>` is much higher in test."
   ]
  },
  {
   "cell_type": "code",
   "execution_count": 20,
   "metadata": {},
   "outputs": [],
   "source": [
    "val_tokens = Counter()\n",
    "for article in val:\n",
    "    val_tokens.update(tokenise(article))"
   ]
  },
  {
   "cell_type": "code",
   "execution_count": 21,
   "metadata": {},
   "outputs": [],
   "source": [
    "test_tokens = Counter()\n",
    "for article in test:\n",
    "    test_tokens.update(tokenise(article))"
   ]
  },
  {
   "cell_type": "code",
   "execution_count": 22,
   "metadata": {},
   "outputs": [
    {
     "data": {
      "text/plain": [
       "True"
      ]
     },
     "execution_count": 22,
     "metadata": {},
     "output_type": "execute_result"
    }
   ],
   "source": [
    "all(tok in tok2idx for tok in val_tokens)"
   ]
  },
  {
   "cell_type": "code",
   "execution_count": 23,
   "metadata": {},
   "outputs": [
    {
     "data": {
      "text/plain": [
       "True"
      ]
     },
     "execution_count": 23,
     "metadata": {},
     "output_type": "execute_result"
    }
   ],
   "source": [
    "all(tok in tok2idx for tok in test_tokens)"
   ]
  },
  {
   "cell_type": "markdown",
   "metadata": {},
   "source": [
    "There are more unknown tokens in val/test, which makes sense because we're removing words that don't appear at least 3 times in the *training* set"
   ]
  },
  {
   "cell_type": "code",
   "execution_count": 24,
   "metadata": {
    "scrolled": true
   },
   "outputs": [
    {
     "data": {
      "text/plain": [
       "(0.026153532366701968, 0.053839721382428346, 0.06197036270864808)"
      ]
     },
     "execution_count": 24,
     "metadata": {},
     "output_type": "execute_result"
    }
   ],
   "source": [
    "(tokens['<unk>'] / sum(tokens.values()), \n",
    " val_tokens['<unk>'] / sum(val_tokens.values()), \n",
    " test_tokens['<unk>'] / sum(test_tokens.values()))"
   ]
  },
  {
   "cell_type": "markdown",
   "metadata": {},
   "source": [
    "Note there's a weird effect here: our model gets full points for guessing `<unk>`. This is a bit silly since it it's better than guessing a wrong word, but not as good as guessing the true word."
   ]
  },
  {
   "cell_type": "markdown",
   "metadata": {},
   "source": [
    "A cheap way of building our tokens. A better way would include a way to shuffle the articles."
   ]
  },
  {
   "cell_type": "code",
   "execution_count": 25,
   "metadata": {},
   "outputs": [],
   "source": [
    "train_ds = ListContainer(tokenise('\\n'.join(train)), tfms=[numericalise])\n",
    "val_ds = ListContainer(tokenise('\\n'.join(val)), tfms=[numericalise])\n",
    "test_ds = ListContainer(tokenise('\\n'.join(test)), tfms=[numericalise])"
   ]
  },
  {
   "cell_type": "code",
   "execution_count": 26,
   "metadata": {},
   "outputs": [
    {
     "data": {
      "text/plain": [
       "[9, 11, 3932, 4429, 852, 11, 9, 9, 21729, 128]"
      ]
     },
     "execution_count": 26,
     "metadata": {},
     "output_type": "execute_result"
    }
   ],
   "source": [
    "[train_ds[i] for i in range(10)]"
   ]
  },
  {
   "cell_type": "code",
   "execution_count": 92,
   "metadata": {},
   "outputs": [
    {
     "data": {
      "text/plain": [
       "ListContainer (10 items)\n",
       "['<eos>', '=', 'Valkyria', 'Chronicles', 'III', '=', '<eos>', '<eos>', 'Senjō', 'no']; Transformed by [<function numericalise at 0x7f5602618378>]"
      ]
     },
     "execution_count": 92,
     "metadata": {},
     "output_type": "execute_result"
    }
   ],
   "source": [
    "train_ds[:10]"
   ]
  },
  {
   "cell_type": "code",
   "execution_count": 27,
   "metadata": {},
   "outputs": [],
   "source": [
    "tr = train_ds[:-1].product(train_ds[1:])"
   ]
  },
  {
   "cell_type": "code",
   "execution_count": 28,
   "metadata": {},
   "outputs": [],
   "source": [
    "from torch import nn, tensor\n",
    "import torch.nn.functional as F\n",
    "from torch.utils.data import DataLoader\n",
    "import torch"
   ]
  },
  {
   "cell_type": "code",
   "execution_count": 29,
   "metadata": {},
   "outputs": [],
   "source": [
    "dl = DataLoader(tr, batch_size=4)"
   ]
  },
  {
   "cell_type": "code",
   "execution_count": 30,
   "metadata": {},
   "outputs": [],
   "source": [
    "x, y = next(iter(dl))"
   ]
  },
  {
   "cell_type": "code",
   "execution_count": 31,
   "metadata": {},
   "outputs": [
    {
     "data": {
      "text/plain": [
       "(tensor([   9,   11, 3932, 4429]), tensor([  11, 3932, 4429,  852]))"
      ]
     },
     "execution_count": 31,
     "metadata": {},
     "output_type": "execute_result"
    }
   ],
   "source": [
    "x, y"
   ]
  },
  {
   "cell_type": "markdown",
   "metadata": {},
   "source": [
    "### Batching and backpropagating"
   ]
  },
  {
   "cell_type": "code",
   "execution_count": 32,
   "metadata": {},
   "outputs": [],
   "source": [
    "from fastai.text import TextList\n",
    "import pandas as pd"
   ]
  },
  {
   "cell_type": "markdown",
   "metadata": {},
   "source": [
    "For language modelling we want each *line* of our batch to be a contiguous part of the text.\n",
    "So we break the text into equal sized chunks, and then produce bptt of that at a time"
   ]
  },
  {
   "cell_type": "code",
   "execution_count": 33,
   "metadata": {},
   "outputs": [
    {
     "data": {
      "text/plain": [
       "'Gentle reader : This is a handbook about TEX , a new typesetting system intended for the creation of beautiful books %—% and especially for books that contain a lot of mathematics . By preparing a manuscript in TEX format , you will be telling a computer exactly how the manuscript is to be transformed'"
      ]
     },
     "execution_count": 33,
     "metadata": {},
     "output_type": "execute_result"
    }
   ],
   "source": [
    "text = (\"Gentle reader : This is a handbook about TEX , a new typesetting system intended for the \"\n",
    "        \"creation of beautiful books %—% and especially for books that contain a lot of mathematics . \"\n",
    "        \"By preparing a manuscript in TEX format , you will be telling a computer exactly how the \"\n",
    "        \"manuscript is to be transformed\").split()\n",
    "' '.join(text)"
   ]
  },
  {
   "cell_type": "markdown",
   "metadata": {},
   "source": [
    "Let's work out what we want. We cut up the text into sections and have parallel streams through the text.\n",
    "\n",
    "Let's say we have bs=7 (i.e. 7 parallel streams), bptt = 4 (4 tokens per batch)"
   ]
  },
  {
   "cell_type": "code",
   "execution_count": 34,
   "metadata": {},
   "outputs": [
    {
     "data": {
      "text/plain": [
       "55"
      ]
     },
     "execution_count": 34,
     "metadata": {},
     "output_type": "execute_result"
    }
   ],
   "source": [
    "len(text)"
   ]
  },
  {
   "cell_type": "code",
   "execution_count": 35,
   "metadata": {},
   "outputs": [
    {
     "data": {
      "text/plain": [
       "7.857142857142857"
      ]
     },
     "execution_count": 35,
     "metadata": {},
     "output_type": "execute_result"
    }
   ],
   "source": [
    "55 / 7"
   ]
  },
  {
   "cell_type": "markdown",
   "metadata": {},
   "source": [
    "We'll split it into 7 streams of length 7-8 (there's some ambiguity on how we handle end tokens)"
   ]
  },
  {
   "cell_type": "code",
   "execution_count": 36,
   "metadata": {},
   "outputs": [
    {
     "data": {
      "text/plain": [
       "[['Gentle', 'reader', ':', 'This', 'is', 'a', 'handbook', 'about'],\n",
       " ['TEX', ',', 'a', 'new', 'typesetting', 'system', 'intended', 'for'],\n",
       " ['the', 'creation', 'of', 'beautiful', 'books', '%—%', 'and', 'especially'],\n",
       " ['for', 'books', 'that', 'contain', 'a', 'lot', 'of', 'mathematics'],\n",
       " ['.', 'By', 'preparing', 'a', 'manuscript', 'in', 'TEX', 'format'],\n",
       " [',', 'you', 'will', 'be', 'telling', 'a', 'computer', 'exactly'],\n",
       " ['how', 'the', 'manuscript', 'is', 'to', 'be', 'transformed']]"
      ]
     },
     "execution_count": 36,
     "metadata": {},
     "output_type": "execute_result"
    }
   ],
   "source": [
    "streams = [text[i*8:i*8+8] for i in range(7)]\n",
    "streams"
   ]
  },
  {
   "cell_type": "markdown",
   "metadata": {},
   "source": [
    "Now each batch will grab the first 4 tokens from each stream"
   ]
  },
  {
   "cell_type": "code",
   "execution_count": 37,
   "metadata": {},
   "outputs": [
    {
     "data": {
      "text/plain": [
       "[['Gentle', 'reader', ':', 'This'],\n",
       " ['TEX', ',', 'a', 'new'],\n",
       " ['the', 'creation', 'of', 'beautiful'],\n",
       " ['for', 'books', 'that', 'contain'],\n",
       " ['.', 'By', 'preparing', 'a'],\n",
       " [',', 'you', 'will', 'be'],\n",
       " ['how', 'the', 'manuscript', 'is']]"
      ]
     },
     "execution_count": 37,
     "metadata": {},
     "output_type": "execute_result"
    }
   ],
   "source": [
    "batch = [s[:4] for s in streams]\n",
    "batch"
   ]
  },
  {
   "cell_type": "markdown",
   "metadata": {},
   "source": [
    "Unfortunately the last batch can end up non-square.\n",
    "\n",
    "We either have to drop it or pad it"
   ]
  },
  {
   "cell_type": "code",
   "execution_count": 38,
   "metadata": {},
   "outputs": [
    {
     "data": {
      "text/plain": [
       "[['is', 'a', 'handbook', 'about'],\n",
       " ['typesetting', 'system', 'intended', 'for'],\n",
       " ['books', '%—%', 'and', 'especially'],\n",
       " ['a', 'lot', 'of', 'mathematics'],\n",
       " ['manuscript', 'in', 'TEX', 'format'],\n",
       " ['telling', 'a', 'computer', 'exactly'],\n",
       " ['to', 'be', 'transformed']]"
      ]
     },
     "execution_count": 38,
     "metadata": {},
     "output_type": "execute_result"
    }
   ],
   "source": [
    "batch = [s[4:8] for s in streams]\n",
    "batch"
   ]
  },
  {
   "cell_type": "markdown",
   "metadata": {},
   "source": [
    "Let's go with padding: each stream can start with at most one `<PAD>` character so we don't miss a word. May be overkill, but is best for testing. We'll need to treat is specially in the model.\n",
    "\n",
    "Have n characters, and bs streams.\n",
    "\n",
    "Number of characters per stream is: `l = (n+bs-1) // bs` (round up the division), and the number of pad characters is `n_pad = l * bs - n`.\n",
    "\n",
    "Streams are then something like:\n",
    "```\n",
    "1     2     ...    l\n",
    "l+1   l+2   ...    2l\n",
    "2l+1  2l+2  ...    3l\n",
    "<pad> 3l+1  ...    4l-1\n",
    "<pad> ...\n",
    "```\n",
    "\n",
    "Then we need to break this into sequences of length `bptt`. The number of sequences is `s = (l + bptt - 1) // bptt`, and we're going to need additional padding on each sequence of length `n_seq_pad = bptt * s - l`, which is at most `bptt - 1` characters long.\n",
    "\n",
    "So we then get:\n",
    "```\n",
    "<pad> <pad> 1     2     ...    l\n",
    "<pad> <pad> l+1   l+2   ...    2l\n",
    "<pad> <pad> 2l+1  2l+2  ...    3l\n",
    "<pad> <pad> <pad> 3l+1  ...    4l-1\n",
    "<pad> <pad> <pad> ...\n",
    "```\n",
    "\n",
    "So the process in steps is:\n",
    "\n",
    "* Find out l, n_pad, s, n_seq_pad (can use divmod)\n",
    "* Add padding to sequence (or indexer)\n",
    "* Add lookup that retrives a block of size bs from each of the sequences"
   ]
  },
  {
   "cell_type": "markdown",
   "metadata": {},
   "source": [
    "Here's a pure indexing solution adapted from `12_text` "
   ]
  },
  {
   "cell_type": "code",
   "execution_count": 39,
   "metadata": {},
   "outputs": [],
   "source": [
    "class LM_PreLoader():\n",
    "    def __init__(self, data, bs=64, bptt=70, shuffle=False):\n",
    "        self.data,self.bs,self.bptt,self.shuffle = data,bs,bptt,shuffle\n",
    "        total_len = sum([len(t) for t in data])\n",
    "        self.n_batch = total_len // bs\n",
    "        self.batchify()\n",
    "    \n",
    "    def __len__(self): return ((self.n_batch-1) // self.bptt) * self.bs\n",
    "    \n",
    "    def __getitem__(self, idx):\n",
    "        source = self.batched_data[idx % self.bs]\n",
    "        seq_idx = (idx // self.bs) * self.bptt\n",
    "        return source[seq_idx:seq_idx+self.bptt],source[seq_idx+1:seq_idx+self.bptt+1]\n",
    "    \n",
    "    def batchify(self):\n",
    "        texts = self.data\n",
    "        if self.shuffle: texts = texts[torch.randperm(len(texts))]\n",
    "        stream = torch.cat([tensor(t) for t in texts])\n",
    "        self.batched_data = stream[:self.n_batch * self.bs].view(self.bs, self.n_batch)"
   ]
  },
  {
   "cell_type": "markdown",
   "metadata": {},
   "source": [
    "Let's create our own solution (it may be slow)"
   ]
  },
  {
   "cell_type": "code",
   "execution_count": 40,
   "metadata": {},
   "outputs": [],
   "source": [
    "def chunks(l, n):\n",
    "    \"\"\"Yield successive n-sized chunks from l.\"\"\"\n",
    "    return [l[i:i+n] for i in range(0, len(l), n)] if len(l) > 0 else []"
   ]
  },
  {
   "cell_type": "code",
   "execution_count": 41,
   "metadata": {},
   "outputs": [],
   "source": [
    "def batch_seq_trunc(seq, bs, bptt):\n",
    "    n = len(seq)\n",
    "    len_stream, n_extra = divmod(n, bs)\n",
    "    n_batch, n_batch_extra = divmod(len_stream, bptt)\n",
    "    n -= n_extra + n_batch_extra * bs\n",
    "    len_stream -= n_batch_extra\n",
    "    \n",
    "    streams = chunks(seq[:n], len_stream)\n",
    "    batches = [chunks(s, bptt) for s in streams]\n",
    "    \n",
    "    return list(zip(*batches))"
   ]
  },
  {
   "cell_type": "code",
   "execution_count": 42,
   "metadata": {},
   "outputs": [
    {
     "data": {
      "text/plain": [
       "[(['Gentle', 'reader', ':'],\n",
       "  ['typesetting', 'system', 'intended'],\n",
       "  ['for', 'books', 'that'],\n",
       "  ['manuscript', 'in', 'TEX']),\n",
       " (['This', 'is', 'a'],\n",
       "  ['for', 'the', 'creation'],\n",
       "  ['contain', 'a', 'lot'],\n",
       "  ['format', ',', 'you']),\n",
       " (['handbook', 'about', 'TEX'],\n",
       "  ['of', 'beautiful', 'books'],\n",
       "  ['of', 'mathematics', '.'],\n",
       "  ['will', 'be', 'telling']),\n",
       " ([',', 'a', 'new'],\n",
       "  ['%—%', 'and', 'especially'],\n",
       "  ['By', 'preparing', 'a'],\n",
       "  ['a', 'computer', 'exactly'])]"
      ]
     },
     "execution_count": 42,
     "metadata": {},
     "output_type": "execute_result"
    }
   ],
   "source": [
    "bst = batch_seq_trunc(text, 4, 3)\n",
    "bst"
   ]
  },
  {
   "cell_type": "markdown",
   "metadata": {},
   "source": [
    "Check it's outputting the right size things"
   ]
  },
  {
   "cell_type": "code",
   "execution_count": 43,
   "metadata": {},
   "outputs": [],
   "source": [
    "bs, bptt = 16, 70\n",
    "for t in train:\n",
    "    bst = batch_seq_trunc(tokenise(t), bs, bptt)\n",
    "    # Should use almost all tokens\n",
    "    assert len(tokenise(t)) - len(bst) * bs * bptt < bs * bptt\n",
    "    for batch in bst:\n",
    "        # All batches should be size bs\n",
    "        assert len(batch) == bs\n",
    "        for stream in batch:\n",
    "            # Each item in a batch should be size bptt\n",
    "            assert len(stream) == bptt"
   ]
  },
  {
   "cell_type": "code",
   "execution_count": 53,
   "metadata": {},
   "outputs": [],
   "source": [
    "def lift(f): return lambda xs: [f(x) for x in xs]\n",
    "def flatten1(l): return [x for y in l for x in y]"
   ]
  },
  {
   "cell_type": "code",
   "execution_count": 54,
   "metadata": {},
   "outputs": [],
   "source": [
    "t = comply(['\\n'.join, str.lstrip, tokenise, lift(numericalise)], train)"
   ]
  },
  {
   "cell_type": "code",
   "execution_count": 55,
   "metadata": {},
   "outputs": [],
   "source": [
    "tx = comply([flatten1, lift(torch.LongTensor)], batch_seq_trunc(t[:-1], bs=7, bptt=4))\n",
    "ty = comply([flatten1, lift(torch.LongTensor)], batch_seq_trunc(t[1:], bs=7, bptt=4))"
   ]
  },
  {
   "cell_type": "code",
   "execution_count": 56,
   "metadata": {},
   "outputs": [],
   "source": [
    "dl = DataLoader(list(zip(tx, ty)), batch_size=7, shuffle=False)"
   ]
  },
  {
   "cell_type": "code",
   "execution_count": 57,
   "metadata": {},
   "outputs": [
    {
     "data": {
      "text/plain": [
       "(torch.Size([7, 4]), torch.Size([7, 4]))"
      ]
     },
     "execution_count": 57,
     "metadata": {},
     "output_type": "execute_result"
    }
   ],
   "source": [
    "xbs, ybs = [], []\n",
    "for xb, yb in dl:\n",
    "    xbs.append(xb)\n",
    "    ybs.append(yb)\n",
    "    if len(xbs) >= 2: break\n",
    "\n",
    "xb.shape, yb.shape"
   ]
  },
  {
   "cell_type": "code",
   "execution_count": 58,
   "metadata": {},
   "outputs": [],
   "source": [
    "def unnumericalise(t):\n",
    "    return [idx2tok[x] for x in t]"
   ]
  },
  {
   "cell_type": "code",
   "execution_count": 59,
   "metadata": {},
   "outputs": [
    {
     "data": {
      "text/plain": [
       "[['=', 'Valkyria', 'Chronicles', 'III'],\n",
       " ['<unk>', '<unk>', 'Long', 'and'],\n",
       " ['footage', 'from', 'her', 'live'],\n",
       " ['\"', 'his', 'profound', 'impact'],\n",
       " ['trial', 'because', 'the', 'jury'],\n",
       " ['prominent', 'in', 'the', 'mid'],\n",
       " ['2006', ',', 'the', 'athletic']]"
      ]
     },
     "execution_count": 59,
     "metadata": {},
     "output_type": "execute_result"
    }
   ],
   "source": [
    "[unnumericalise(seq) for seq in xbs[0]]"
   ]
  },
  {
   "cell_type": "code",
   "execution_count": 60,
   "metadata": {},
   "outputs": [
    {
     "data": {
      "text/plain": [
       "[['Valkyria', 'Chronicles', 'III', '='],\n",
       " ['<unk>', 'Long', 'and', 'published'],\n",
       " ['from', 'her', 'live', 'performances'],\n",
       " ['his', 'profound', 'impact', 'on'],\n",
       " ['because', 'the', 'jury', 'was'],\n",
       " ['in', 'the', 'mid', '@-@'],\n",
       " [',', 'the', 'athletic', 'department']]"
      ]
     },
     "execution_count": 60,
     "metadata": {},
     "output_type": "execute_result"
    }
   ],
   "source": [
    "[unnumericalise(seq) for seq in ybs[0]]"
   ]
  },
  {
   "cell_type": "code",
   "execution_count": 61,
   "metadata": {},
   "outputs": [
    {
     "data": {
      "text/plain": [
       "[['=', '<eos>', '<eos>', 'Senjō'],\n",
       " ['published', 'in', '1986', '.'],\n",
       " ['performances', 'of', 'the', 'song'],\n",
       " ['on', 'popular', 'music', 'and'],\n",
       " ['was', 'racially', 'biased', ','],\n",
       " ['@-@', '20th', 'century', ','],\n",
       " ['department', 'was', 'ranked', '79th']]"
      ]
     },
     "execution_count": 61,
     "metadata": {},
     "output_type": "execute_result"
    }
   ],
   "source": [
    "[unnumericalise(seq) for seq in xbs[1]]"
   ]
  },
  {
   "cell_type": "code",
   "execution_count": 62,
   "metadata": {},
   "outputs": [
    {
     "data": {
      "text/plain": [
       "[['<eos>', '<eos>', 'Senjō', 'no'],\n",
       " ['in', '1986', '.', 'This'],\n",
       " ['of', 'the', 'song', 'in'],\n",
       " ['popular', 'music', 'and', 'American'],\n",
       " ['racially', 'biased', ',', '<unk>'],\n",
       " ['20th', 'century', ',', 'but'],\n",
       " ['was', 'ranked', '79th', 'in']]"
      ]
     },
     "execution_count": 62,
     "metadata": {},
     "output_type": "execute_result"
    }
   ],
   "source": [
    "[unnumericalise(seq) for seq in ybs[1]]"
   ]
  },
  {
   "cell_type": "code",
   "execution_count": 63,
   "metadata": {},
   "outputs": [],
   "source": [
    "train_data = [[tok2idx[tok] for tok in tokenise(text)] for text in train]\n",
    "val_data = [[tok2idx[tok] for tok in tokenise(text)] for text in val]\n",
    "test_data = [[tok2idx[tok] for tok in tokenise(text)] for text in test]"
   ]
  },
  {
   "cell_type": "markdown",
   "metadata": {},
   "source": [
    "We more or less end up reimplementing fastai's version; so let's use that.\n",
    "\n",
    "We'll need to call batchify after each epoch to reshuffle"
   ]
  },
  {
   "cell_type": "code",
   "execution_count": 64,
   "metadata": {},
   "outputs": [],
   "source": [
    "class LM_PreLoader():\n",
    "    def __init__(self, data, bs=64, bptt=70, shuffle=False):\n",
    "        self.data,self.bs,self.bptt,self.shuffle = data,bs,bptt,shuffle\n",
    "        total_len = sum([len(t) for t in data])\n",
    "        self.n_batch = total_len // bs\n",
    "        self.batchify()\n",
    "    \n",
    "    def __len__(self): return ((self.n_batch-1) // self.bptt) * self.bs\n",
    "    \n",
    "    def __getitem__(self, idx):\n",
    "        source = self.batched_data[idx % self.bs]\n",
    "        seq_idx = (idx // self.bs) * self.bptt\n",
    "        return source[seq_idx:seq_idx+self.bptt],source[seq_idx+1:seq_idx+self.bptt+1]\n",
    "    \n",
    "    def batchify(self):\n",
    "        texts = self.data\n",
    "        if self.shuffle: texts = [texts[i] for i in torch.randperm(len(texts))]\n",
    "        stream = torch.cat([tensor(t) for t in texts])\n",
    "        self.batched_data = stream[:self.n_batch * self.bs].view(self.bs, self.n_batch)"
   ]
  },
  {
   "cell_type": "code",
   "execution_count": 65,
   "metadata": {},
   "outputs": [],
   "source": [
    "t = LM_PreLoader(train_data, bs=7, bptt=4)"
   ]
  },
  {
   "cell_type": "code",
   "execution_count": 66,
   "metadata": {},
   "outputs": [],
   "source": [
    "dl = DataLoader(t, batch_size=7, shuffle=False)"
   ]
  },
  {
   "cell_type": "code",
   "execution_count": 67,
   "metadata": {},
   "outputs": [
    {
     "data": {
      "text/plain": [
       "(torch.Size([7, 4]), torch.Size([7, 4]))"
      ]
     },
     "execution_count": 67,
     "metadata": {},
     "output_type": "execute_result"
    }
   ],
   "source": [
    "xbs, ybs = [], []\n",
    "for xb, yb in dl:\n",
    "    xbs.append(xb)\n",
    "    ybs.append(yb)\n",
    "    if len(xbs) >= 2: break\n",
    "\n",
    "xb.shape, yb.shape"
   ]
  },
  {
   "cell_type": "code",
   "execution_count": 68,
   "metadata": {},
   "outputs": [
    {
     "data": {
      "text/plain": [
       "([['<eos>', '=', 'Valkyria', 'Chronicles'],\n",
       "  ['Long', 'and', 'published', 'in'],\n",
       "  ['of', 'the', 'song', 'in'],\n",
       "  ['American', 'culture', ',', 'marked'],\n",
       "  ['judge', 'was', 'a', 'racist'],\n",
       "  ['pioneering', 'a', 'backwards', 'and'],\n",
       "  ['Directors', 'of', 'Athletics', '(']],\n",
       " [['III', '=', '<eos>', '<eos>'],\n",
       "  ['1986', '.', 'This', 'novel'],\n",
       "  ['New', 'York', 'City', 'and'],\n",
       "  ['by', 'lyrical', 'compositions', 'of'],\n",
       "  [',', 'and', 'noted', 'that'],\n",
       "  ['head', '@-@', 'first', 'technique'],\n",
       "  ['<unk>', ')', '.', 'Along']])"
      ]
     },
     "execution_count": 68,
     "metadata": {},
     "output_type": "execute_result"
    }
   ],
   "source": [
    "[unnumericalise(seq) for seq in xbs[0]], [unnumericalise(seq) for seq in xbs[1]]"
   ]
  },
  {
   "cell_type": "markdown",
   "metadata": {},
   "source": [
    "We may need to do some cleaning wiht multiple `<eos>` tokens..."
   ]
  },
  {
   "cell_type": "code",
   "execution_count": 69,
   "metadata": {},
   "outputs": [
    {
     "data": {
      "text/plain": [
       "([['=', 'Valkyria', 'Chronicles', 'III'],\n",
       "  ['and', 'published', 'in', '1986'],\n",
       "  ['the', 'song', 'in', 'New'],\n",
       "  ['culture', ',', 'marked', 'by'],\n",
       "  ['was', 'a', 'racist', ','],\n",
       "  ['a', 'backwards', 'and', 'head'],\n",
       "  ['of', 'Athletics', '(', '<unk>']],\n",
       " [['=', '<eos>', '<eos>', 'Senjō'],\n",
       "  ['.', 'This', 'novel', ','],\n",
       "  ['York', 'City', 'and', 'Japan'],\n",
       "  ['lyrical', 'compositions', 'of', 'extraordinary'],\n",
       "  ['and', 'noted', 'that', 'the'],\n",
       "  ['@-@', 'first', 'technique', 'in'],\n",
       "  [')', '.', 'Along', 'with']])"
      ]
     },
     "execution_count": 69,
     "metadata": {},
     "output_type": "execute_result"
    }
   ],
   "source": [
    "[unnumericalise(seq) for seq in ybs[0]], [unnumericalise(seq) for seq in ybs[1]]"
   ]
  },
  {
   "cell_type": "markdown",
   "metadata": {},
   "source": [
    "Remember: we'll need to add a hook to call batchify between epochs to actually do the shuffle"
   ]
  },
  {
   "cell_type": "code",
   "execution_count": 70,
   "metadata": {},
   "outputs": [],
   "source": [
    "def lm_dataloader(data, bs=64, bptt=70, shuffle=False):\n",
    "    return DataLoader(LM_PreLoader(train_data, bs, bptt, shuffle=shuffle),\n",
    "                      batch_size=bs, shuffle=False)"
   ]
  },
  {
   "cell_type": "code",
   "execution_count": 71,
   "metadata": {},
   "outputs": [],
   "source": [
    "bs, bptt = 64, 70"
   ]
  },
  {
   "cell_type": "code",
   "execution_count": 72,
   "metadata": {},
   "outputs": [],
   "source": [
    "train_dl = lm_dataloader(train_data, bs, bptt, shuffle=True)\n",
    "val_dl = lm_dataloader(val_data, bs, bptt, shuffle=False)"
   ]
  },
  {
   "cell_type": "code",
   "execution_count": 73,
   "metadata": {},
   "outputs": [
    {
     "data": {
      "text/plain": [
       "[['<eos>', '=', 'Aston', 'Villa', 'F.C.', '=', '<eos>'],\n",
       " ['<eos>', 'Prior', 'to', '1895', 'two', '6', '@-@']]"
      ]
     },
     "execution_count": 73,
     "metadata": {},
     "output_type": "execute_result"
    }
   ],
   "source": [
    "xb, yb = next(iter(train_dl))\n",
    "[unnumericalise(x)[:7] for x in xb][:2]"
   ]
  },
  {
   "cell_type": "code",
   "execution_count": 74,
   "metadata": {},
   "outputs": [
    {
     "data": {
      "text/plain": [
       "[['<eos>', '=', 'Aston', 'Villa', 'F.C.', '=', '<eos>'],\n",
       " ['<eos>', 'Prior', 'to', '1895', 'two', '6', '@-@']]"
      ]
     },
     "execution_count": 74,
     "metadata": {},
     "output_type": "execute_result"
    }
   ],
   "source": [
    "xb, yb = next(iter(train_dl))\n",
    "[unnumericalise(x)[:7] for x in xb][:2]"
   ]
  },
  {
   "cell_type": "code",
   "execution_count": 75,
   "metadata": {},
   "outputs": [
    {
     "data": {
      "text/plain": [
       "[['<eos>', '=', 'Pokiri', '=', '<eos>', '<eos>', 'Pokiri'],\n",
       " ['Cathedral', 'and', 'Christ', 'Church', 'as', 'well', 'as']]"
      ]
     },
     "execution_count": 75,
     "metadata": {},
     "output_type": "execute_result"
    }
   ],
   "source": [
    "train_dl.dataset.batchify()\n",
    "xb, yb = next(iter(train_dl))\n",
    "[unnumericalise(x)[:7] for x in xb][:2]"
   ]
  },
  {
   "cell_type": "markdown",
   "metadata": {},
   "source": [
    "## Build a very stupid benchmark\n",
    "\n",
    "Just always guess the next word is 'the'"
   ]
  },
  {
   "cell_type": "code",
   "execution_count": 76,
   "metadata": {},
   "outputs": [],
   "source": [
    "x, y = next(iter(val_dl))"
   ]
  },
  {
   "cell_type": "markdown",
   "metadata": {},
   "source": [
    "5.4% accuracy"
   ]
  },
  {
   "cell_type": "code",
   "execution_count": 77,
   "metadata": {},
   "outputs": [
    {
     "data": {
      "text/plain": [
       "0.054183112281522526"
      ]
     },
     "execution_count": 77,
     "metadata": {},
     "output_type": "execute_result"
    }
   ],
   "source": [
    "avg = 0\n",
    "for x, y in iter(val_dl):\n",
    "    avg += (y == 1).float().mean().item()\n",
    "avg /= len(val_dl)\n",
    "avg"
   ]
  },
  {
   "cell_type": "markdown",
   "metadata": {},
   "source": [
    "# Super simple stateless Language Model"
   ]
  },
  {
   "cell_type": "code",
   "execution_count": 78,
   "metadata": {},
   "outputs": [],
   "source": [
    "embedding_dim = 50"
   ]
  },
  {
   "cell_type": "code",
   "execution_count": 79,
   "metadata": {},
   "outputs": [],
   "source": [
    "emb = nn.Embedding(n_tok, embedding_dim, padding_idx=0)"
   ]
  },
  {
   "cell_type": "code",
   "execution_count": 80,
   "metadata": {},
   "outputs": [],
   "source": [
    "lin_out = nn.Linear(embedding_dim, n_tok)"
   ]
  },
  {
   "cell_type": "code",
   "execution_count": 81,
   "metadata": {},
   "outputs": [],
   "source": [
    "relu = nn.ReLU()"
   ]
  },
  {
   "cell_type": "code",
   "execution_count": 82,
   "metadata": {},
   "outputs": [
    {
     "data": {
      "text/plain": [
       "torch.Size([64, 70])"
      ]
     },
     "execution_count": 82,
     "metadata": {},
     "output_type": "execute_result"
    }
   ],
   "source": [
    "xb.shape"
   ]
  },
  {
   "cell_type": "code",
   "execution_count": 738,
   "metadata": {},
   "outputs": [
    {
     "data": {
      "text/plain": [
       "torch.Size([64, 70, 50])"
      ]
     },
     "execution_count": 738,
     "metadata": {},
     "output_type": "execute_result"
    }
   ],
   "source": [
    "exb = relu(emb(xb))\n",
    "exb.shape"
   ]
  },
  {
   "cell_type": "code",
   "execution_count": 747,
   "metadata": {},
   "outputs": [
    {
     "data": {
      "text/plain": [
       "(torch.Size([64, 70, 33279]), torch.Size([64, 70]))"
      ]
     },
     "execution_count": 747,
     "metadata": {},
     "output_type": "execute_result"
    }
   ],
   "source": [
    "lxb = lin_out(exb)\n",
    "lxb.shape, yb.shape"
   ]
  },
  {
   "cell_type": "code",
   "execution_count": 758,
   "metadata": {},
   "outputs": [
    {
     "data": {
      "text/plain": [
       "(torch.Size([4480, 33279]), torch.Size([4480]))"
      ]
     },
     "execution_count": 758,
     "metadata": {},
     "output_type": "execute_result"
    }
   ],
   "source": [
    "lxb.view(-1, n_tok).shape, yb.view(-1).shape"
   ]
  },
  {
   "cell_type": "code",
   "execution_count": 768,
   "metadata": {},
   "outputs": [
    {
     "data": {
      "text/plain": [
       "tensor(10.4933, grad_fn=<NllLossBackward>)"
      ]
     },
     "execution_count": 768,
     "metadata": {},
     "output_type": "execute_result"
    }
   ],
   "source": [
    "F.cross_entropy(lxb.view(-1, n_tok), yb.view(-1))"
   ]
  },
  {
   "cell_type": "code",
   "execution_count": 83,
   "metadata": {},
   "outputs": [],
   "source": [
    "class LinearLM(nn.Module):\n",
    "    def __init__(self, n_tok, embedding_dim, hidden_dims, padding_idx=None):\n",
    "        super().__init__()\n",
    "        internal_dims = [embedding_dim] + listify(hidden_dims) + [n_tok]\n",
    "        layers = [nn.Embedding(n_tok, embedding_dim, padding_idx=padding_idx)]\n",
    "        for n_in, n_out in zip(internal_dims[:-1], internal_dims[1:]):\n",
    "            layers += [nn.ReLU(), nn.Linear(n_in, n_out)]\n",
    "        self.layers = nn.Sequential(*layers)\n",
    "        \n",
    "    def forward(self, x): return self.layers(x)"
   ]
  },
  {
   "cell_type": "code",
   "execution_count": 84,
   "metadata": {},
   "outputs": [
    {
     "data": {
      "text/plain": [
       "torch.Size([64, 70, 33279])"
      ]
     },
     "execution_count": 84,
     "metadata": {},
     "output_type": "execute_result"
    }
   ],
   "source": [
    "lm = LinearLM(n_tok, 50, [])\n",
    "lxb = lm(xb)\n",
    "lxb.shape"
   ]
  },
  {
   "cell_type": "code",
   "execution_count": 85,
   "metadata": {},
   "outputs": [],
   "source": [
    "def flat_cross_entropy(pred, target):\n",
    "    target = target.view(-1)\n",
    "    size = target.shape[0]\n",
    "    pred = pred.view(size, -1)\n",
    "    return F.cross_entropy(pred, target)"
   ]
  },
  {
   "cell_type": "code",
   "execution_count": 86,
   "metadata": {},
   "outputs": [],
   "source": [
    "class Databunch(NamedTuple):\n",
    "    train_dl: DataLoader\n",
    "    valid_dl: DataLoader\n",
    "        \n",
    "data = Databunch(train_dl, val_dl)"
   ]
  },
  {
   "cell_type": "code",
   "execution_count": 87,
   "metadata": {},
   "outputs": [],
   "source": [
    "learn = Learner(lm, data, flat_cross_entropy, cbs=[Progress()])"
   ]
  },
  {
   "cell_type": "code",
   "execution_count": 88,
   "metadata": {},
   "outputs": [
    {
     "data": {
      "text/html": [],
      "text/plain": [
       "<IPython.core.display.HTML object>"
      ]
     },
     "metadata": {},
     "output_type": "display_data"
    }
   ],
   "source": [
    "learn.fit(1)"
   ]
  },
  {
   "cell_type": "markdown",
   "metadata": {},
   "source": [
    "## Build a very simple vanilla RNN Language Model"
   ]
  },
  {
   "cell_type": "code",
   "execution_count": 703,
   "metadata": {},
   "outputs": [],
   "source": [
    "embedding_dim = 50\n",
    "hidden_dim = 40"
   ]
  },
  {
   "cell_type": "code",
   "execution_count": 704,
   "metadata": {},
   "outputs": [],
   "source": [
    "emb = nn.Embedding(n_tok, embedding_dim, padding_idx=0)"
   ]
  },
  {
   "cell_type": "code",
   "execution_count": 707,
   "metadata": {},
   "outputs": [
    {
     "data": {
      "text/plain": [
       "(torch.Size([64, 70]), torch.Size([64, 70, 50]))"
      ]
     },
     "execution_count": 707,
     "metadata": {},
     "output_type": "execute_result"
    }
   ],
   "source": [
    "exb = emb(xb)\n",
    "xb.shape, exb.shape"
   ]
  },
  {
   "cell_type": "code",
   "execution_count": 706,
   "metadata": {},
   "outputs": [],
   "source": [
    "rnn = nn.RNN(input_size=embedding_dim,\n",
    "             hidden_size=hidden_dim)"
   ]
  },
  {
   "cell_type": "code",
   "execution_count": 712,
   "metadata": {},
   "outputs": [
    {
     "data": {
      "text/plain": [
       "(torch.Size([70, 64, 40]), torch.Size([1, 64, 40]))"
      ]
     },
     "execution_count": 712,
     "metadata": {},
     "output_type": "execute_result"
    }
   ],
   "source": [
    "# **input** of shape `(seq_len, batch, input_size)`: \n",
    "# exb is bs x seq_len x input_size\n",
    "rxb, hidden = rnn(exb.transpose(0,1))\n",
    "rxb.shape, hidden.shape"
   ]
  },
  {
   "cell_type": "code",
   "execution_count": 713,
   "metadata": {},
   "outputs": [],
   "source": [
    "lin_out = nn.Linear(hidden_dim, n_tok)"
   ]
  },
  {
   "cell_type": "code",
   "execution_count": 716,
   "metadata": {},
   "outputs": [
    {
     "data": {
      "text/plain": [
       "torch.Size([70, 64, 33279])"
      ]
     },
     "execution_count": 716,
     "metadata": {},
     "output_type": "execute_result"
    }
   ],
   "source": [
    "oxb = lin_out(rxb)\n",
    "oxb.shape"
   ]
  },
  {
   "cell_type": "code",
   "execution_count": null,
   "metadata": {},
   "outputs": [],
   "source": []
  }
 ],
 "metadata": {
  "kernelspec": {
   "display_name": "Python 3",
   "language": "python",
   "name": "python3"
  },
  "language_info": {
   "codemirror_mode": {
    "name": "ipython",
    "version": 3
   },
   "file_extension": ".py",
   "mimetype": "text/x-python",
   "name": "python",
   "nbconvert_exporter": "python",
   "pygments_lexer": "ipython3",
   "version": "3.6.6"
  }
 },
 "nbformat": 4,
 "nbformat_minor": 2
}
